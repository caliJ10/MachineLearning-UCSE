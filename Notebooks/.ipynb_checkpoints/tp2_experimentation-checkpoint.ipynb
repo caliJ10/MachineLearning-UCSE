{
 "cells": [
  {
   "cell_type": "markdown",
   "metadata": {},
   "source": [
    "# Trabajo Práctico 2"
   ]
  },
  {
   "cell_type": "code",
   "execution_count": 1,
   "metadata": {},
   "outputs": [],
   "source": [
    "import numpy as np\n",
    "import pandas as pd\n",
    "from matplotlib import pyplot as plt\n",
    "import seaborn as sns\n",
    "import itertools\n",
    "import warnings\n",
    "warnings.filterwarnings(\"ignore\")\n",
    "\n",
    "from sklearn.metrics import accuracy_score, precision_score, recall_score, confusion_matrix, f1_score \n",
    "from sklearn.model_selection import train_test_split\n",
    "%matplotlib inline"
   ]
  },
  {
   "cell_type": "markdown",
   "metadata": {},
   "source": [
    "# Lectura de datos"
   ]
  },
  {
   "cell_type": "code",
   "execution_count": 2,
   "metadata": {},
   "outputs": [],
   "source": [
    "data = pd.read_csv('../datasets/pulsar-stars/pulsar_stars.csv')"
   ]
  },
  {
   "cell_type": "code",
   "execution_count": 3,
   "metadata": {},
   "outputs": [],
   "source": [
    "data.columns = [col.strip() for col in data.columns]"
   ]
  },
  {
   "cell_type": "markdown",
   "metadata": {},
   "source": [
    "#### Renombrado de columnas:\n",
    "\n",
    "Decidimos renombrar las colunmas pasándolas a español para hacerlas más \"entendibles\" a simple vista."
   ]
  },
  {
   "cell_type": "code",
   "execution_count": 4,
   "metadata": {},
   "outputs": [],
   "source": [
    "NOMBRES_COLUMNAS = {\n",
    "    'Mean of the integrated profile' : 'media del perfil integrado',\n",
    "    'Standard deviation of the integrated profile' : 'desviacion estandar del perfil integrado',\n",
    "    'Excess kurtosis of the integrated profile' : 'exceso de curtosis del perfil integrado',\n",
    "    'Skewness of the integrated profile' : 'sesgo del perfil integrado',\n",
    "    'Mean of the DM-SNR curve' : 'media de la curva DM-SNR',\n",
    "    'Standard deviation of the DM-SNR curve' : 'desviacion estandar de la curva DM-SNR',\n",
    "    'Excess kurtosis of the DM-SNR curve' : 'exceso de curtosis de la curva DM-SNR',\n",
    "    'Skewness of the DM-SNR curve' : 'sesgo de la curva DM-SNR',\n",
    "    'target_class' : 'target_class'\n",
    "}\n",
    "data.rename(columns=NOMBRES_COLUMNAS, inplace=True)"
   ]
  },
  {
   "cell_type": "code",
   "execution_count": 5,
   "metadata": {},
   "outputs": [
    {
     "data": {
      "text/plain": [
       "media del perfil integrado                  float64\n",
       "desviacion estandar del perfil integrado    float64\n",
       "exceso de curtosis del perfil integrado     float64\n",
       "sesgo del perfil integrado                  float64\n",
       "media de la curva DM-SNR                    float64\n",
       "desviacion estandar de la curva DM-SNR      float64\n",
       "exceso de curtosis de la curva DM-SNR       float64\n",
       "sesgo de la curva DM-SNR                    float64\n",
       "target_class                                  int64\n",
       "dtype: object"
      ]
     },
     "execution_count": 5,
     "metadata": {},
     "output_type": "execute_result"
    }
   ],
   "source": [
    "data.dtypes"
   ]
  },
  {
   "cell_type": "code",
   "execution_count": 6,
   "metadata": {},
   "outputs": [
    {
     "data": {
      "text/plain": [
       "media del perfil integrado                  0\n",
       "desviacion estandar del perfil integrado    0\n",
       "exceso de curtosis del perfil integrado     0\n",
       "sesgo del perfil integrado                  0\n",
       "media de la curva DM-SNR                    0\n",
       "desviacion estandar de la curva DM-SNR      0\n",
       "exceso de curtosis de la curva DM-SNR       0\n",
       "sesgo de la curva DM-SNR                    0\n",
       "target_class                                0\n",
       "dtype: int64"
      ]
     },
     "execution_count": 6,
     "metadata": {},
     "output_type": "execute_result"
    }
   ],
   "source": [
    "data.isnull().sum()"
   ]
  },
  {
   "cell_type": "markdown",
   "metadata": {},
   "source": [
    "### Variables de entrada:\n",
    "- media del perfil integrado\n",
    "- desviacion estandar del perfil integrado\n",
    "- exceso de curtosis del perfil integrado\n",
    "- sesgo del perfil integrado\n",
    "- media de la curva DM-SNR\n",
    "- desviacion estandar de la curva DM-SNR\n",
    "- exceso de curtosis de la curva DM-SNR\n",
    "- sesgo de la curva DM-SNR\n",
    "    \n",
    "Decidimos utilizar todas las variables sin ningún tipo de transformación."
   ]
  },
  {
   "cell_type": "markdown",
   "metadata": {},
   "source": [
    "### Train y Test"
   ]
  },
  {
   "cell_type": "code",
   "execution_count": 7,
   "metadata": {},
   "outputs": [],
   "source": [
    "#train , test = train_test_split(data,test_size = .3,random_state = 123)\n",
    "train, not_train = train_test_split(data, test_size=0.4)\n",
    "validation, test = train_test_split(not_train, test_size=0.5)"
   ]
  },
  {
   "cell_type": "code",
   "execution_count": 8,
   "metadata": {},
   "outputs": [
    {
     "data": {
      "image/png": "[encoded data removed]",
      "text/plain": [
       "<Figure size 864x432 with 2 Axes>"
      ]
     },
     "metadata": {},
     "output_type": "display_data"
    }
   ],
   "source": [
    "plt.figure(figsize=(12,6))\n",
    "plt.subplot(121)\n",
    "train[\"target_class\"].value_counts().plot.pie(labels = [\"not star\",\"star\"],\n",
    "                                              autopct = \"%1.0f%%\",\n",
    "                                              shadow = True,explode=[0,.1])\n",
    "plt.title(\"Train\")\n",
    "plt.ylabel(\"\")\n",
    "plt.subplot(122)\n",
    "test[\"target_class\"].value_counts().plot.pie(labels = [\"not star\",\"star\"],\n",
    "                                             autopct = \"%1.0f%%\",\n",
    "                                             shadow = True,explode=[0,.1])\n",
    "plt.title(\"Test\")\n",
    "plt.ylabel(\"\")\n",
    "plt.show()"
   ]
  },
  {
   "cell_type": "code",
   "execution_count": 18,
   "metadata": {},
   "outputs": [],
   "source": [
    "def evaluate_model(model, extract_inputs_function, extract_outputs_function, include_validation=True):\n",
    "    sets = [('train', train), ('test', test)]\n",
    "    if include_validation:\n",
    "        sets.append(('validation', validation))\n",
    "        \n",
    "    for set_name, set_data in sets:\n",
    "        inputs = extract_inputs_function(set_data)\n",
    "        outputs = extract_outputs_function(set_data)\n",
    "        predictions = model.predict(inputs)\n",
    "        \n",
    "        print(set_name, '#' * 80)\n",
    "        \n",
    "        # print metrics\n",
    "        \n",
    "        print('Accuracy:', accuracy_score(outputs, predictions))\n",
    "        print('Precision:', precision_score(outputs, predictions))\n",
    "        print('Recall:', recall_score(outputs, predictions))\n",
    "        print('F1-score:', f1_score(outputs, predictions))\n",
    "        print()\n",
    "        \n",
    "        # plot confussion matrix\n",
    "        \n",
    "        plt.figure(figsize=(3,4))\n",
    "        \n",
    "        plt.xticks([0, 1], ['no star', 'star'], rotation=45)\n",
    "        plt.yticks([0, 1], ['no star', 'star'])\n",
    "        plt.xlabel('Predicted class')\n",
    "        plt.ylabel('True class')\n",
    "\n",
    "        plt.title(set_name)\n",
    "\n",
    "        plt.imshow(\n",
    "            confusion_matrix(outputs, predictions), \n",
    "            cmap=plt.cm.Blues, \n",
    "            interpolation='nearest',\n",
    "        )\n",
    "\n",
    "        plt.show()"
   ]
  },
  {
   "cell_type": "markdown",
   "metadata": {},
   "source": [
    "### Definición de la métrica\n",
    "Teniendo en cuenta que nuestro dataset está muy desbalanceado, la elección de \"Accuracy\" como métrica no sería una buena opción. Por otro lado, nos interesa encontrar todos los casos positivos, ya que son pocos en relación al dataset.\n",
    "La métrica que vamos a utilizar va a ser \"F1-Score\", ya que combina \"Recall\" para que no se nos escape ningún caso positivo, y \"Precision\" para encontrar los casos que son realmente positivos."
   ]
  },
  {
   "cell_type": "markdown",
   "metadata": {},
   "source": [
    "## Primer Modelo: Logistic Regression"
   ]
  },
  {
   "cell_type": "code",
   "execution_count": 19,
   "metadata": {},
   "outputs": [],
   "source": [
    "from sklearn.linear_model import LogisticRegression\n",
    "from sklearn.preprocessing import StandardScaler\n",
    "from sklearn.pipeline import Pipeline"
   ]
  },
  {
   "cell_type": "code",
   "execution_count": 20,
   "metadata": {},
   "outputs": [],
   "source": [
    "# final input columns, in the order we want to use them\n",
    "LR_INPUT_COLUMNS = [x for x in data.columns if x not in [\"target_class\"]]\n",
    "\n",
    "def lr_extract_inputs(dataset):\n",
    "    \"\"\"\n",
    "    Inputs in the format supported by the logistic regressor.\n",
    "    \"\"\"\n",
    "    inputs = dataset.copy() \n",
    "    \n",
    "    return inputs[LR_INPUT_COLUMNS].values.astype(np.float64)\n",
    "\n",
    "def lr_extract_outputs(dataset):\n",
    "    \"\"\"\n",
    "    Outputs in the format supported by the logistic regressor.\n",
    "    \"\"\"\n",
    "    return dataset.target_class.values"
   ]
  },
  {
   "cell_type": "code",
   "execution_count": 21,
   "metadata": {},
   "outputs": [],
   "source": [
    "\n",
    "lr_model = Pipeline([\n",
    "    ('scaler', StandardScaler()),\n",
    "    ('classifier', LogisticRegression()),\n",
    "])"
   ]
  },
  {
   "cell_type": "code",
   "execution_count": 22,
   "metadata": {},
   "outputs": [
    {
     "data": {
      "text/plain": [
       "Pipeline(memory=None,\n",
       "     steps=[('scaler', StandardScaler(copy=True, with_mean=True, with_std=True)), ('classifier', LogisticRegression(C=1.0, class_weight=None, dual=False, fit_intercept=True,\n",
       "          intercept_scaling=1, max_iter=100, multi_class='warn',\n",
       "          n_jobs=None, penalty='l2', random_state=None, solver='warn',\n",
       "          tol=0.0001, verbose=0, warm_start=False))])"
      ]
     },
     "execution_count": 22,
     "metadata": {},
     "output_type": "execute_result"
    }
   ],
   "source": [
    "lr_model.fit(\n",
    "    lr_extract_inputs(train),\n",
    "    lr_extract_outputs(train),\n",
    ")"
   ]
  },
  {
   "cell_type": "code",
   "execution_count": 24,
   "metadata": {
    "scrolled": true
   },
   "outputs": [
    {
     "name": "stdout",
     "output_type": "stream",
     "text": [
      "train ################################################################################\n",
      "Accuracy: 0.9785807412926057\n",
      "Precision: 0.9396135265700483\n",
      "Recall: 0.8121085594989561\n",
      "F1-score: 0.8712206047032475\n",
      "\n"
     ]
    },
    {
     "data": {
      "image/png": "[encoded data removed]",
      "text/plain": [
       "<Figure size 216x288 with 1 Axes>"
      ]
     },
     "metadata": {
      "needs_background": "light"
     },
     "output_type": "display_data"
    },
    {
     "name": "stdout",
     "output_type": "stream",
     "text": [
      "test ################################################################################\n",
      "Accuracy: 0.9770949720670391\n",
      "Precision: 0.9331103678929766\n",
      "Recall: 0.8181818181818182\n",
      "F1-score: 0.8718750000000001\n",
      "\n"
     ]
    },
    {
     "data": {
      "image/png": "[encoded data removed]",
      "text/plain": [
       "<Figure size 216x288 with 1 Axes>"
      ]
     },
     "metadata": {
      "needs_background": "light"
     },
     "output_type": "display_data"
    },
    {
     "name": "stdout",
     "output_type": "stream",
     "text": [
      "validation ################################################################################\n",
      "Accuracy: 0.9804469273743017\n",
      "Precision: 0.9411764705882353\n",
      "Recall: 0.8470588235294118\n",
      "F1-score: 0.8916408668730651\n",
      "\n"
     ]
    },
    {
     "data": {
      "image/png": "[encoded data removed]",
      "text/plain": [
       "<Figure size 216x288 with 1 Axes>"
      ]
     },
     "metadata": {
      "needs_background": "light"
     },
     "output_type": "display_data"
    }
   ],
   "source": [
    "evaluate_model(lr_model, lr_extract_inputs, lr_extract_outputs)"
   ]
  },
  {
   "cell_type": "markdown",
   "metadata": {},
   "source": [
    "### Conclusiones\n",
    "El modelo tiene un F1-score: de 0.87 en test y 0,89 en validation.\n",
    "\n",
    "Para ser un modelo sencillo y muy rápido de ejecutar es un resultado muy bueno."
   ]
  },
  {
   "cell_type": "markdown",
   "metadata": {},
   "source": [
    "## Segundo Modelo: K nearest neighbors"
   ]
  },
  {
   "cell_type": "code",
   "execution_count": 27,
   "metadata": {},
   "outputs": [],
   "source": [
    "from sklearn.neighbors import KNeighborsClassifier"
   ]
  },
  {
   "cell_type": "code",
   "execution_count": 28,
   "metadata": {},
   "outputs": [],
   "source": [
    "K = 10\n",
    "\n",
    "knn_model = Pipeline([\n",
    "    ('scaler', StandardScaler()),\n",
    "    ('classifier', KNeighborsClassifier(n_neighbors=K)),\n",
    "])"
   ]
  },
  {
   "cell_type": "code",
   "execution_count": 29,
   "metadata": {},
   "outputs": [
    {
     "data": {
      "text/plain": [
       "Pipeline(memory=None,\n",
       "     steps=[('scaler', StandardScaler(copy=True, with_mean=True, with_std=True)), ('classifier', KNeighborsClassifier(algorithm='auto', leaf_size=30, metric='minkowski',\n",
       "           metric_params=None, n_jobs=None, n_neighbors=10, p=2,\n",
       "           weights='uniform'))])"
      ]
     },
     "execution_count": 29,
     "metadata": {},
     "output_type": "execute_result"
    }
   ],
   "source": [
    "knn_model.fit(\n",
    "    lr_extract_inputs(train),\n",
    "    lr_extract_outputs(train),\n",
    ")"
   ]
  },
  {
   "cell_type": "code",
   "execution_count": 30,
   "metadata": {},
   "outputs": [
    {
     "name": "stdout",
     "output_type": "stream",
     "text": [
      "train ################################################################################\n",
      "Accuracy: 0.9787669957161482\n",
      "Precision: 0.9484029484029484\n",
      "Recall: 0.8058455114822547\n",
      "F1-score: 0.871331828442438\n",
      "\n"
     ]
    },
    {
     "data": {
      "image/png": "[encoded data removed]",
      "text/plain": [
       "<Figure size 216x288 with 1 Axes>"
      ]
     },
     "metadata": {
      "needs_background": "light"
     },
     "output_type": "display_data"
    },
    {
     "name": "stdout",
     "output_type": "stream",
     "text": [
      "test ################################################################################\n",
      "Accuracy: 0.9776536312849162\n",
      "Precision: 0.9515570934256056\n",
      "Recall: 0.8064516129032258\n",
      "F1-score: 0.873015873015873\n",
      "\n"
     ]
    },
    {
     "data": {
      "image/png": "[encoded data removed]",
      "text/plain": [
       "<Figure size 216x288 with 1 Axes>"
      ]
     },
     "metadata": {
      "needs_background": "light"
     },
     "output_type": "display_data"
    },
    {
     "name": "stdout",
     "output_type": "stream",
     "text": [
      "validation ################################################################################\n",
      "Accuracy: 0.979608938547486\n",
      "Precision: 0.9556313993174061\n",
      "Recall: 0.8235294117647058\n",
      "F1-score: 0.8846761453396524\n",
      "\n"
     ]
    },
    {
     "data": {
      "image/png": "[encoded data removed]",
      "text/plain": [
       "<Figure size 216x288 with 1 Axes>"
      ]
     },
     "metadata": {
      "needs_background": "light"
     },
     "output_type": "display_data"
    }
   ],
   "source": [
    "evaluate_model(knn_model, lr_extract_inputs, lr_extract_outputs)"
   ]
  },
  {
   "cell_type": "markdown",
   "metadata": {},
   "source": [
    "### Conclusión"
   ]
  },
  {
   "cell_type": "markdown",
   "metadata": {},
   "source": [
    "## Decision Trees"
   ]
  },
  {
   "cell_type": "code",
   "execution_count": 44,
   "metadata": {},
   "outputs": [],
   "source": [
    "from sklearn.tree import DecisionTreeClassifier"
   ]
  },
  {
   "cell_type": "code",
   "execution_count": 45,
   "metadata": {},
   "outputs": [],
   "source": [
    "tree_model = DecisionTreeClassifier()"
   ]
  },
  {
   "cell_type": "code",
   "execution_count": 47,
   "metadata": {},
   "outputs": [
    {
     "data": {
      "text/plain": [
       "DecisionTreeClassifier(class_weight=None, criterion='gini', max_depth=None,\n",
       "            max_features=None, max_leaf_nodes=None,\n",
       "            min_impurity_decrease=0.0, min_impurity_split=None,\n",
       "            min_samples_leaf=1, min_samples_split=2,\n",
       "            min_weight_fraction_leaf=0.0, presort=False, random_state=None,\n",
       "            splitter='best')"
      ]
     },
     "execution_count": 47,
     "metadata": {},
     "output_type": "execute_result"
    }
   ],
   "source": [
    "tree_model.fit(\n",
    "    lr_extract_inputs(train),\n",
    "    lr_extract_outputs(train),\n",
    ")"
   ]
  },
  {
   "cell_type": "code",
   "execution_count": 49,
   "metadata": {},
   "outputs": [
    {
     "name": "stdout",
     "output_type": "stream",
     "text": [
      "train ################################################################################\n",
      "Accuracy: 1.0\n",
      "Precision: 1.0\n",
      "Recall: 1.0\n",
      "F1-score: 1.0\n",
      "\n"
     ]
    },
    {
     "data": {
      "image/png": "[encoded data removed]",
      "text/plain": [
       "<Figure size 216x288 with 1 Axes>"
      ]
     },
     "metadata": {
      "needs_background": "light"
     },
     "output_type": "display_data"
    },
    {
     "name": "stdout",
     "output_type": "stream",
     "text": [
      "test ################################################################################\n",
      "Accuracy: 0.9678770949720671\n",
      "Precision: 0.8323529411764706\n",
      "Recall: 0.8299120234604106\n",
      "F1-score: 0.8311306901615272\n",
      "\n"
     ]
    },
    {
     "data": {
      "image/png": "[encoded data removed]",
      "text/plain": [
       "<Figure size 216x288 with 1 Axes>"
      ]
     },
     "metadata": {
      "needs_background": "light"
     },
     "output_type": "display_data"
    },
    {
     "name": "stdout",
     "output_type": "stream",
     "text": [
      "validation ################################################################################\n",
      "Accuracy: 0.9656424581005587\n",
      "Precision: 0.8126801152737753\n",
      "Recall: 0.8294117647058824\n",
      "F1-score: 0.8209606986899564\n",
      "\n"
     ]
    },
    {
     "data": {
      "image/png": "[encoded data removed]",
      "text/plain": [
       "<Figure size 216x288 with 1 Axes>"
      ]
     },
     "metadata": {
      "needs_background": "light"
     },
     "output_type": "display_data"
    }
   ],
   "source": [
    "evaluate_model(tree_model, lr_extract_inputs, lr_extract_outputs)"
   ]
  },
  {
   "cell_type": "code",
   "execution_count": 51,
   "metadata": {},
   "outputs": [
    {
     "ename": "ModuleNotFoundError",
     "evalue": "No module named 'graphviz'",
     "output_type": "error",
     "traceback": [
      "\u001b[0;31m---------------------------------------------------------------------------\u001b[0m",
      "\u001b[0;31mModuleNotFoundError\u001b[0m                       Traceback (most recent call last)",
      "\u001b[0;32m<ipython-input-51-f386a4e5a551>\u001b[0m in \u001b[0;36m<module>\u001b[0;34m\u001b[0m\n\u001b[0;32m----> 1\u001b[0;31m \u001b[0;32mimport\u001b[0m \u001b[0mgraphviz\u001b[0m  \u001b[0;31m# pip install graphviz\u001b[0m\u001b[0;34m\u001b[0m\u001b[0;34m\u001b[0m\u001b[0m\n\u001b[0m\u001b[1;32m      2\u001b[0m \u001b[0;32mfrom\u001b[0m \u001b[0msklearn\u001b[0m\u001b[0;34m.\u001b[0m\u001b[0mtree\u001b[0m \u001b[0;32mimport\u001b[0m \u001b[0mexport_graphviz\u001b[0m\u001b[0;34m\u001b[0m\u001b[0;34m\u001b[0m\u001b[0m\n\u001b[1;32m      3\u001b[0m \u001b[0;34m\u001b[0m\u001b[0m\n\u001b[1;32m      4\u001b[0m \u001b[0;32mdef\u001b[0m \u001b[0mgraph_tree\u001b[0m\u001b[0;34m(\u001b[0m\u001b[0mtree\u001b[0m\u001b[0;34m)\u001b[0m\u001b[0;34m:\u001b[0m\u001b[0;34m\u001b[0m\u001b[0;34m\u001b[0m\u001b[0m\n\u001b[1;32m      5\u001b[0m     graph_data = export_graphviz(\n",
      "\u001b[0;31mModuleNotFoundError\u001b[0m: No module named 'graphviz'"
     ]
    }
   ],
   "source": [
    "import graphviz  # pip install graphviz\n",
    "from sklearn.tree import export_graphviz\n",
    "\n",
    "def graph_tree(tree):\n",
    "    graph_data = export_graphviz(\n",
    "        tree, \n",
    "        out_file=None, \n",
    "        feature_names=LR_INPUT_COLUMNS,  \n",
    "        class_names=['no star', 'star'],  \n",
    "        filled=True, \n",
    "        rounded=True,  \n",
    "        special_characters=True,\n",
    "    )\n",
    "    graph = graphviz.Source(graph_data)  \n",
    "    # graph.render('rendered_tree')\n",
    "    return graph"
   ]
  },
  {
   "cell_type": "markdown",
   "metadata": {},
   "source": [
    "### conclusion"
   ]
  },
  {
   "cell_type": "markdown",
   "metadata": {},
   "source": [
    "## Neural Networks"
   ]
  },
  {
   "cell_type": "code",
   "execution_count": 31,
   "metadata": {},
   "outputs": [
    {
     "name": "stderr",
     "output_type": "stream",
     "text": [
      "Using TensorFlow backend.\n"
     ]
    }
   ],
   "source": [
    "from keras.models import Sequential\n",
    "from keras.layers import Dense, Activation, Input, Dropout"
   ]
  },
  {
   "cell_type": "code",
   "execution_count": 41,
   "metadata": {},
   "outputs": [
    {
     "name": "stdout",
     "output_type": "stream",
     "text": [
      "WARNING:tensorflow:From /home/usuario/anaconda3/lib/python3.7/site-packages/keras/backend/tensorflow_backend.py:3445: calling dropout (from tensorflow.python.ops.nn_ops) with keep_prob is deprecated and will be removed in a future version.\n",
      "Instructions for updating:\n",
      "Please use `rate` instead of `keep_prob`. Rate should be set to `rate = 1 - keep_prob`.\n"
     ]
    }
   ],
   "source": [
    "nn_model = Sequential([   \n",
    "    Dense(50, input_shape=(len(LR_INPUT_COLUMNS), )),\n",
    "    Activation('relu'),\n",
    "    \n",
    "    Dropout(0.1),\n",
    "\n",
    "    Dense(50),\n",
    "    Activation('relu'),\n",
    "    \n",
    "    Dropout(0.1),\n",
    "\n",
    "    Dense(1),\n",
    "    Activation('sigmoid'),\n",
    "])\n",
    "\n",
    "nn_model.compile(\n",
    "    optimizer='adam',\n",
    "    loss='binary_crossentropy',\n",
    "    metrics=['accuracy',],\n",
    ")"
   ]
  },
  {
   "cell_type": "code",
   "execution_count": 42,
   "metadata": {},
   "outputs": [
    {
     "name": "stdout",
     "output_type": "stream",
     "text": [
      "Train on 10738 samples, validate on 3580 samples\n",
      "Epoch 1/30\n",
      "10738/10738 [==============================] - 0s 43us/step - loss: 0.7511 - acc: 0.9136 - val_loss: 0.3155 - val_acc: 0.9601\n",
      "Epoch 2/30\n",
      "10738/10738 [==============================] - 0s 11us/step - loss: 0.3561 - acc: 0.9504 - val_loss: 0.2042 - val_acc: 0.9687\n",
      "Epoch 3/30\n",
      "10738/10738 [==============================] - 0s 12us/step - loss: 0.2794 - acc: 0.9534 - val_loss: 0.1730 - val_acc: 0.9707\n",
      "Epoch 4/30\n",
      "10738/10738 [==============================] - 0s 12us/step - loss: 0.2317 - acc: 0.9603 - val_loss: 0.1371 - val_acc: 0.9729\n",
      "Epoch 5/30\n",
      "10738/10738 [==============================] - 0s 10us/step - loss: 0.2041 - acc: 0.9590 - val_loss: 0.1379 - val_acc: 0.9723\n",
      "Epoch 6/30\n",
      "10738/10738 [==============================] - 0s 11us/step - loss: 0.1793 - acc: 0.9632 - val_loss: 0.1262 - val_acc: 0.9723\n",
      "Epoch 7/30\n",
      "10738/10738 [==============================] - 0s 11us/step - loss: 0.1666 - acc: 0.9627 - val_loss: 0.1261 - val_acc: 0.9726\n",
      "Epoch 8/30\n",
      "10738/10738 [==============================] - 0s 11us/step - loss: 0.1578 - acc: 0.9627 - val_loss: 0.1138 - val_acc: 0.9740\n",
      "Epoch 9/30\n",
      "10738/10738 [==============================] - 0s 12us/step - loss: 0.1448 - acc: 0.9652 - val_loss: 0.1022 - val_acc: 0.9746\n",
      "Epoch 10/30\n",
      "10738/10738 [==============================] - 0s 11us/step - loss: 0.1358 - acc: 0.9680 - val_loss: 0.0957 - val_acc: 0.9743\n",
      "Epoch 11/30\n",
      "10738/10738 [==============================] - 0s 12us/step - loss: 0.1242 - acc: 0.9700 - val_loss: 0.0903 - val_acc: 0.9746\n",
      "Epoch 12/30\n",
      "10738/10738 [==============================] - 0s 12us/step - loss: 0.1202 - acc: 0.9689 - val_loss: 0.0946 - val_acc: 0.9735\n",
      "Epoch 13/30\n",
      "10738/10738 [==============================] - 0s 11us/step - loss: 0.1189 - acc: 0.9704 - val_loss: 0.0935 - val_acc: 0.9737\n",
      "Epoch 14/30\n",
      "10738/10738 [==============================] - 0s 15us/step - loss: 0.1124 - acc: 0.9705 - val_loss: 0.0878 - val_acc: 0.9737\n",
      "Epoch 15/30\n",
      "10738/10738 [==============================] - 0s 15us/step - loss: 0.1109 - acc: 0.9702 - val_loss: 0.0854 - val_acc: 0.9737\n",
      "Epoch 16/30\n",
      "10738/10738 [==============================] - 0s 12us/step - loss: 0.1029 - acc: 0.9701 - val_loss: 0.0842 - val_acc: 0.9737\n",
      "Epoch 17/30\n",
      "10738/10738 [==============================] - 0s 12us/step - loss: 0.1052 - acc: 0.9724 - val_loss: 0.0869 - val_acc: 0.9740\n",
      "Epoch 18/30\n",
      "10738/10738 [==============================] - 0s 13us/step - loss: 0.1023 - acc: 0.9713 - val_loss: 0.0852 - val_acc: 0.9735\n",
      "Epoch 19/30\n",
      "10738/10738 [==============================] - 0s 11us/step - loss: 0.1001 - acc: 0.9723 - val_loss: 0.0831 - val_acc: 0.9743\n",
      "Epoch 20/30\n",
      "10738/10738 [==============================] - 0s 13us/step - loss: 0.0991 - acc: 0.9728 - val_loss: 0.0860 - val_acc: 0.9743\n",
      "Epoch 21/30\n",
      "10738/10738 [==============================] - 0s 12us/step - loss: 0.0962 - acc: 0.9729 - val_loss: 0.0835 - val_acc: 0.9740\n",
      "Epoch 22/30\n",
      "10738/10738 [==============================] - 0s 11us/step - loss: 0.0986 - acc: 0.9736 - val_loss: 0.0828 - val_acc: 0.9751\n",
      "Epoch 23/30\n",
      "10738/10738 [==============================] - 0s 11us/step - loss: 0.0983 - acc: 0.9738 - val_loss: 0.0825 - val_acc: 0.9746\n",
      "Epoch 24/30\n",
      "10738/10738 [==============================] - 0s 12us/step - loss: 0.0955 - acc: 0.9749 - val_loss: 0.0843 - val_acc: 0.9743\n",
      "Epoch 25/30\n",
      "10738/10738 [==============================] - 0s 14us/step - loss: 0.0975 - acc: 0.9720 - val_loss: 0.0828 - val_acc: 0.9740\n",
      "Epoch 26/30\n",
      "10738/10738 [==============================] - 0s 16us/step - loss: 0.0930 - acc: 0.9744 - val_loss: 0.0805 - val_acc: 0.9740\n",
      "Epoch 27/30\n",
      "10738/10738 [==============================] - 0s 13us/step - loss: 0.0914 - acc: 0.9749 - val_loss: 0.0828 - val_acc: 0.9743\n",
      "Epoch 28/30\n",
      "10738/10738 [==============================] - 0s 13us/step - loss: 0.0949 - acc: 0.9737 - val_loss: 0.0829 - val_acc: 0.9740\n",
      "Epoch 29/30\n",
      "10738/10738 [==============================] - 0s 12us/step - loss: 0.0912 - acc: 0.9757 - val_loss: 0.0855 - val_acc: 0.9740\n",
      "Epoch 30/30\n",
      "10738/10738 [==============================] - 0s 15us/step - loss: 0.0913 - acc: 0.9736 - val_loss: 0.0820 - val_acc: 0.9743\n"
     ]
    }
   ],
   "source": [
    "history = nn_model.fit(\n",
    "    lr_extract_inputs(train), \n",
    "    lr_extract_outputs(train),\n",
    "    epochs=30,\n",
    "    batch_size=128,\n",
    "    validation_data=(\n",
    "        lr_extract_inputs(test),\n",
    "        lr_extract_outputs(test),\n",
    "    )\n",
    ")"
   ]
  },
  {
   "cell_type": "code",
   "execution_count": 43,
   "metadata": {},
   "outputs": [
    {
     "name": "stdout",
     "output_type": "stream",
     "text": [
      "train ################################################################################\n",
      "Accuracy: 0.9787669957161482\n",
      "Precision: 0.9484029484029484\n",
      "Recall: 0.8058455114822547\n",
      "F1-score: 0.871331828442438\n",
      "\n"
     ]
    },
    {
     "data": {
      "image/png": "[encoded data removed]",
      "text/plain": [
       "<Figure size 216x288 with 1 Axes>"
      ]
     },
     "metadata": {
      "needs_background": "light"
     },
     "output_type": "display_data"
    },
    {
     "name": "stdout",
     "output_type": "stream",
     "text": [
      "test ################################################################################\n",
      "Accuracy: 0.9776536312849162\n",
      "Precision: 0.9515570934256056\n",
      "Recall: 0.8064516129032258\n",
      "F1-score: 0.873015873015873\n",
      "\n"
     ]
    },
    {
     "data": {
      "image/png": "[encoded data removed]",
      "text/plain": [
       "<Figure size 216x288 with 1 Axes>"
      ]
     },
     "metadata": {
      "needs_background": "light"
     },
     "output_type": "display_data"
    },
    {
     "name": "stdout",
     "output_type": "stream",
     "text": [
      "validation ################################################################################\n",
      "Accuracy: 0.979608938547486\n",
      "Precision: 0.9556313993174061\n",
      "Recall: 0.8235294117647058\n",
      "F1-score: 0.8846761453396524\n",
      "\n"
     ]
    },
    {
     "data": {
      "image/png": "[encoded data removed]",
      "text/plain": [
       "<Figure size 216x288 with 1 Axes>"
      ]
     },
     "metadata": {
      "needs_background": "light"
     },
     "output_type": "display_data"
    }
   ],
   "source": [
    "evaluate_model(knn_model, lr_extract_inputs, lr_extract_outputs)"
   ]
  },
  {
   "cell_type": "code",
   "execution_count": null,
   "metadata": {},
   "outputs": [],
   "source": []
  }
 ],
 "metadata": {
  "kernelspec": {
   "display_name": "Python 3",
   "language": "python",
   "name": "python3"
  },
  "language_info": {
   "codemirror_mode": {
    "name": "ipython",
    "version": 3
   },
   "file_extension": ".py",
   "mimetype": "text/x-python",
   "name": "python",
   "nbconvert_exporter": "python",
   "pygments_lexer": "ipython3",
   "version": "3.7.3"
  }
 },
 "nbformat": 4,
 "nbformat_minor": 2
}
