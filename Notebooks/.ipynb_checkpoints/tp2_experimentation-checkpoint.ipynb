{
 "cells": [
  {
   "cell_type": "markdown",
   "metadata": {},
   "source": [
    "# Trabajo Práctico 2"
   ]
  },
  {
   "cell_type": "code",
   "execution_count": 1,
   "metadata": {},
   "outputs": [],
   "source": [
    "import numpy as np\n",
    "import pandas as pd\n",
    "from matplotlib import pyplot as plt\n",
    "import seaborn as sns\n",
    "import itertools\n",
    "import warnings\n",
    "warnings.filterwarnings(\"ignore\")\n",
    "\n",
    "from sklearn.metrics import accuracy_score, precision_score, recall_score, confusion_matrix, f1_score, classification_report\n",
    "from sklearn.model_selection import train_test_split\n",
    "%matplotlib inline"
   ]
  },
  {
   "cell_type": "markdown",
   "metadata": {},
   "source": [
    "# Lectura de datos"
   ]
  },
  {
   "cell_type": "code",
   "execution_count": 2,
   "metadata": {},
   "outputs": [],
   "source": [
    "data = pd.read_csv('../datasets/pulsar-stars/pulsar_stars.csv')"
   ]
  },
  {
   "cell_type": "code",
   "execution_count": 3,
   "metadata": {},
   "outputs": [],
   "source": [
    "data.columns = [col.strip() for col in data.columns]"
   ]
  },
  {
   "cell_type": "markdown",
   "metadata": {},
   "source": [
    "#### Renombrado de columnas:\n",
    "\n",
    "Decidimos renombrar las colunmas pasándolas a español para hacerlas más \"entendibles\" a simple vista."
   ]
  },
  {
   "cell_type": "code",
   "execution_count": 4,
   "metadata": {},
   "outputs": [],
   "source": [
    "NOMBRES_COLUMNAS = {\n",
    "    'Mean of the integrated profile' : 'media del perfil integrado',\n",
    "    'Standard deviation of the integrated profile' : 'desviacion estandar del perfil integrado',\n",
    "    'Excess kurtosis of the integrated profile' : 'exceso de curtosis del perfil integrado',\n",
    "    'Skewness of the integrated profile' : 'sesgo del perfil integrado',\n",
    "    'Mean of the DM-SNR curve' : 'media de la curva DM-SNR',\n",
    "    'Standard deviation of the DM-SNR curve' : 'desviacion estandar de la curva DM-SNR',\n",
    "    'Excess kurtosis of the DM-SNR curve' : 'exceso de curtosis de la curva DM-SNR',\n",
    "    'Skewness of the DM-SNR curve' : 'sesgo de la curva DM-SNR',\n",
    "    'target_class' : 'target_class'\n",
    "}\n",
    "data.rename(columns=NOMBRES_COLUMNAS, inplace=True)"
   ]
  },
  {
   "cell_type": "code",
   "execution_count": 5,
   "metadata": {},
   "outputs": [
    {
     "data": {
      "text/plain": [
       "(17898, 9)"
      ]
     },
     "execution_count": 5,
     "metadata": {},
     "output_type": "execute_result"
    }
   ],
   "source": [
    "data.shape"
   ]
  },
  {
   "cell_type": "code",
   "execution_count": 6,
   "metadata": {},
   "outputs": [
    {
     "data": {
      "text/plain": [
       "media del perfil integrado                  float64\n",
       "desviacion estandar del perfil integrado    float64\n",
       "exceso de curtosis del perfil integrado     float64\n",
       "sesgo del perfil integrado                  float64\n",
       "media de la curva DM-SNR                    float64\n",
       "desviacion estandar de la curva DM-SNR      float64\n",
       "exceso de curtosis de la curva DM-SNR       float64\n",
       "sesgo de la curva DM-SNR                    float64\n",
       "target_class                                  int64\n",
       "dtype: object"
      ]
     },
     "execution_count": 6,
     "metadata": {},
     "output_type": "execute_result"
    }
   ],
   "source": [
    "data.dtypes"
   ]
  },
  {
   "cell_type": "code",
   "execution_count": 7,
   "metadata": {},
   "outputs": [
    {
     "data": {
      "text/plain": [
       "media del perfil integrado                  0\n",
       "desviacion estandar del perfil integrado    0\n",
       "exceso de curtosis del perfil integrado     0\n",
       "sesgo del perfil integrado                  0\n",
       "media de la curva DM-SNR                    0\n",
       "desviacion estandar de la curva DM-SNR      0\n",
       "exceso de curtosis de la curva DM-SNR       0\n",
       "sesgo de la curva DM-SNR                    0\n",
       "target_class                                0\n",
       "dtype: int64"
      ]
     },
     "execution_count": 7,
     "metadata": {},
     "output_type": "execute_result"
    }
   ],
   "source": [
    "data.isnull().sum()"
   ]
  },
  {
   "cell_type": "code",
   "execution_count": 8,
   "metadata": {},
   "outputs": [
    {
     "data": {
      "text/html": [
       "<div>\n",
       "<style scoped>\n",
       "    .dataframe tbody tr th:only-of-type {\n",
       "        vertical-align: middle;\n",
       "    }\n",
       "\n",
       "    .dataframe tbody tr th {\n",
       "        vertical-align: top;\n",
       "    }\n",
       "\n",
       "    .dataframe thead th {\n",
       "        text-align: right;\n",
       "    }\n",
       "</style>\n",
       "<table border=\"1\" class=\"dataframe\">\n",
       "  <thead>\n",
       "    <tr style=\"text-align: right;\">\n",
       "      <th></th>\n",
       "      <th>media del perfil integrado</th>\n",
       "      <th>desviacion estandar del perfil integrado</th>\n",
       "      <th>exceso de curtosis del perfil integrado</th>\n",
       "      <th>sesgo del perfil integrado</th>\n",
       "      <th>media de la curva DM-SNR</th>\n",
       "      <th>desviacion estandar de la curva DM-SNR</th>\n",
       "      <th>exceso de curtosis de la curva DM-SNR</th>\n",
       "      <th>sesgo de la curva DM-SNR</th>\n",
       "      <th>target_class</th>\n",
       "    </tr>\n",
       "  </thead>\n",
       "  <tbody>\n",
       "    <tr>\n",
       "      <th>0</th>\n",
       "      <td>140.562500</td>\n",
       "      <td>55.683782</td>\n",
       "      <td>-0.234571</td>\n",
       "      <td>-0.699648</td>\n",
       "      <td>3.199833</td>\n",
       "      <td>19.110426</td>\n",
       "      <td>7.975532</td>\n",
       "      <td>74.242225</td>\n",
       "      <td>0</td>\n",
       "    </tr>\n",
       "    <tr>\n",
       "      <th>1</th>\n",
       "      <td>102.507812</td>\n",
       "      <td>58.882430</td>\n",
       "      <td>0.465318</td>\n",
       "      <td>-0.515088</td>\n",
       "      <td>1.677258</td>\n",
       "      <td>14.860146</td>\n",
       "      <td>10.576487</td>\n",
       "      <td>127.393580</td>\n",
       "      <td>0</td>\n",
       "    </tr>\n",
       "    <tr>\n",
       "      <th>2</th>\n",
       "      <td>103.015625</td>\n",
       "      <td>39.341649</td>\n",
       "      <td>0.323328</td>\n",
       "      <td>1.051164</td>\n",
       "      <td>3.121237</td>\n",
       "      <td>21.744669</td>\n",
       "      <td>7.735822</td>\n",
       "      <td>63.171909</td>\n",
       "      <td>0</td>\n",
       "    </tr>\n",
       "    <tr>\n",
       "      <th>3</th>\n",
       "      <td>136.750000</td>\n",
       "      <td>57.178449</td>\n",
       "      <td>-0.068415</td>\n",
       "      <td>-0.636238</td>\n",
       "      <td>3.642977</td>\n",
       "      <td>20.959280</td>\n",
       "      <td>6.896499</td>\n",
       "      <td>53.593661</td>\n",
       "      <td>0</td>\n",
       "    </tr>\n",
       "    <tr>\n",
       "      <th>4</th>\n",
       "      <td>88.726562</td>\n",
       "      <td>40.672225</td>\n",
       "      <td>0.600866</td>\n",
       "      <td>1.123492</td>\n",
       "      <td>1.178930</td>\n",
       "      <td>11.468720</td>\n",
       "      <td>14.269573</td>\n",
       "      <td>252.567306</td>\n",
       "      <td>0</td>\n",
       "    </tr>\n",
       "  </tbody>\n",
       "</table>\n",
       "</div>"
      ],
      "text/plain": [
       "   media del perfil integrado  desviacion estandar del perfil integrado  \\\n",
       "0                  140.562500                                 55.683782   \n",
       "1                  102.507812                                 58.882430   \n",
       "2                  103.015625                                 39.341649   \n",
       "3                  136.750000                                 57.178449   \n",
       "4                   88.726562                                 40.672225   \n",
       "\n",
       "   exceso de curtosis del perfil integrado  sesgo del perfil integrado  \\\n",
       "0                                -0.234571                   -0.699648   \n",
       "1                                 0.465318                   -0.515088   \n",
       "2                                 0.323328                    1.051164   \n",
       "3                                -0.068415                   -0.636238   \n",
       "4                                 0.600866                    1.123492   \n",
       "\n",
       "   media de la curva DM-SNR  desviacion estandar de la curva DM-SNR  \\\n",
       "0                  3.199833                               19.110426   \n",
       "1                  1.677258                               14.860146   \n",
       "2                  3.121237                               21.744669   \n",
       "3                  3.642977                               20.959280   \n",
       "4                  1.178930                               11.468720   \n",
       "\n",
       "   exceso de curtosis de la curva DM-SNR  sesgo de la curva DM-SNR  \\\n",
       "0                               7.975532                 74.242225   \n",
       "1                              10.576487                127.393580   \n",
       "2                               7.735822                 63.171909   \n",
       "3                               6.896499                 53.593661   \n",
       "4                              14.269573                252.567306   \n",
       "\n",
       "   target_class  \n",
       "0             0  \n",
       "1             0  \n",
       "2             0  \n",
       "3             0  \n",
       "4             0  "
      ]
     },
     "execution_count": 8,
     "metadata": {},
     "output_type": "execute_result"
    }
   ],
   "source": [
    "data.head()"
   ]
  },
  {
   "cell_type": "markdown",
   "metadata": {},
   "source": [
    "## Feature Engineering\n",
    "\n",
    "Al realizar el análisis de los datos, no encontramos una mejora necesaria para aplicar a los datos, quizás esto se deba al desconocimiento que poseemos en el campo del problema.\n",
    "En un principio, supusimos que hacer un redondeo en los decimales de los datos, los resultados mejorarían, ya que al tener tantos decimales imaginábamos que los modelos podrían sobre entrenarse. Haciendo las pruebas y comparando, observamos que los resultados no mejoraban significativamente, y hasta en algunos casos, el resultado empeoraba (muy poco), por lo que decidimos no aplicar ningún cambio a los datos de entrada."
   ]
  },
  {
   "cell_type": "code",
   "execution_count": 9,
   "metadata": {},
   "outputs": [],
   "source": [
    "#data.round(4)"
   ]
  },
  {
   "cell_type": "markdown",
   "metadata": {},
   "source": [
    "### Variables de entrada:\n",
    "- media del perfil integrado\n",
    "- desviacion estandar del perfil integrado\n",
    "- exceso de curtosis del perfil integrado\n",
    "- sesgo del perfil integrado\n",
    "- media de la curva DM-SNR\n",
    "- desviacion estandar de la curva DM-SNR\n",
    "- exceso de curtosis de la curva DM-SNR\n",
    "- sesgo de la curva DM-SNR\n",
    "    \n",
    "Decidimos utilizar todas las variables sin ningún tipo de transformación."
   ]
  },
  {
   "cell_type": "markdown",
   "metadata": {},
   "source": [
    "### Train, Test y Validation"
   ]
  },
  {
   "cell_type": "code",
   "execution_count": 10,
   "metadata": {},
   "outputs": [],
   "source": [
    "#60% train, 20% test, 20% validation\n",
    "train, not_train = train_test_split(data, test_size=0.4)\n",
    "validation, test = train_test_split(not_train, test_size=0.5)"
   ]
  },
  {
   "cell_type": "code",
   "execution_count": 11,
   "metadata": {},
   "outputs": [
    {
     "data": {
      "text/plain": [
       "<matplotlib.axes._subplots.AxesSubplot at 0x7f7cd373d2e8>"
      ]
     },
     "execution_count": 11,
     "metadata": {},
     "output_type": "execute_result"
    },
    {
     "data": {
      "image/png": "[encoded data removed]",
      "text/plain": [
       "<Figure size 1152x432 with 3 Axes>"
      ]
     },
     "metadata": {},
     "output_type": "display_data"
    }
   ],
   "source": [
    "f,ax=plt.subplots(1,3,figsize=(16,6))\n",
    "\n",
    "ax[0].set_title('Train')\n",
    "train[\"target_class\"].value_counts().plot.pie(labels = [\"not star\",\"star\"],\n",
    "                                              autopct = \"%1.0f%%\",\n",
    "                                              shadow = True,explode=[0,.1],\n",
    "                                              ax=ax[0],)\n",
    "ax[1].set_title('Test')\n",
    "test[\"target_class\"].value_counts().plot.pie(labels = [\"not star\",\"star\"],\n",
    "                                              autopct = \"%1.0f%%\",\n",
    "                                              shadow = True,explode=[0,.1],\n",
    "                                              ax=ax[1],)\n",
    "ax[2].set_title('Validation')\n",
    "validation[\"target_class\"].value_counts().plot.pie(labels = [\"not star\",\"star\"],\n",
    "                                              autopct = \"%1.0f%%\",\n",
    "                                              shadow = True,explode=[0,.1],\n",
    "                                              ax=ax[2],)"
   ]
  },
  {
   "cell_type": "code",
   "execution_count": 12,
   "metadata": {},
   "outputs": [],
   "source": [
    "def evaluate_model(model, extract_inputs_function, extract_outputs_function, include_validation=True):\n",
    "    sets = [('train', train), ('test', test)]\n",
    "    if include_validation:\n",
    "        sets.append(('validation', validation))\n",
    "        \n",
    "    for set_name, set_data in sets:\n",
    "        inputs = extract_inputs_function(set_data)\n",
    "        outputs = extract_outputs_function(set_data)\n",
    "        predictions = model.predict(inputs)\n",
    "        \n",
    "        print(set_name, '#' * 80)\n",
    "        \n",
    "        # print metrics\n",
    "        \n",
    "        print('Accuracy:', accuracy_score(outputs, predictions))\n",
    "        print('Precision:', precision_score(outputs, predictions))\n",
    "        print('Recall:', recall_score(outputs, predictions))\n",
    "        print('F1-score:', f1_score(outputs, predictions))\n",
    "        print()\n",
    "        print (\"\\nclassification report :\\n\",(classification_report(outputs,predictions)))\n",
    "        print()\n",
    "        \n",
    "        # plot confussion matrix\n",
    "        \n",
    "        \n",
    "        plt.figure(figsize=(13,10))\n",
    "        plt.subplot(221)\n",
    "        sns.heatmap(confusion_matrix(outputs,predictions),annot=True,fmt = \"d\",linecolor=\"k\",linewidths=3)\n",
    "        plt.title(\"CONFUSION MATRIX\",fontsize=20)\n",
    "        plt.xticks([0, 1], ['no star', 'star'], rotation=45)\n",
    "        plt.yticks([0, 1], ['no star', 'star'])\n",
    "        plt.xlabel('Predicted class')\n",
    "        plt.ylabel('True class')\n",
    "        \n",
    "        #plt.figure(figsize=(3,4))        \n",
    "        #plt.xticks([0, 1], ['no star', 'star'], rotation=45)\n",
    "        #plt.yticks([0, 1], ['no star', 'star'])\n",
    "        #plt.xlabel('Predicted class')\n",
    "        #plt.ylabel('True class')\n",
    "        #plt.title(set_name)\n",
    "        #plt.imshow(\n",
    "            #confusion_matrix(outputs, predictions), \n",
    "            #cmap=plt.cm.Reds, \n",
    "            #interpolation='nearest',\n",
    "        #)\n",
    "\n",
    "        plt.show()"
   ]
  },
  {
   "cell_type": "markdown",
   "metadata": {},
   "source": [
    "### Definición de la métrica\n",
    "Teniendo en cuenta que nuestro dataset está muy desbalanceado, la elección de \"Accuracy\" como métrica no sería una buena opción. Por otro lado, nos interesa encontrar todos los casos positivos, ya que son pocos en relación al dataset.\n",
    "La métrica que vamos a utilizar va a ser \"F1-Score\", ya que combina \"Recall\" para que no se nos escape ningún caso positivo, y \"Precision\" para encontrar los casos que son realmente positivos."
   ]
  },
  {
   "cell_type": "markdown",
   "metadata": {},
   "source": [
    "## Primer Modelo: Logistic Regression"
   ]
  },
  {
   "cell_type": "code",
   "execution_count": 13,
   "metadata": {},
   "outputs": [],
   "source": [
    "from sklearn.linear_model import LogisticRegression\n",
    "from sklearn.preprocessing import StandardScaler\n",
    "from sklearn.pipeline import Pipeline"
   ]
  },
  {
   "cell_type": "code",
   "execution_count": 14,
   "metadata": {},
   "outputs": [],
   "source": [
    "# final input columns, in the order we want to use them\n",
    "LR_INPUT_COLUMNS = [x for x in data.columns if x not in [\"target_class\"]]\n",
    "\n",
    "def lr_extract_inputs(dataset):\n",
    "    \"\"\"\n",
    "    Inputs in the format supported by the logistic regressor.\n",
    "    \"\"\"\n",
    "    inputs = dataset.copy() \n",
    "    \n",
    "    return inputs[LR_INPUT_COLUMNS].values.astype(np.float64)\n",
    "\n",
    "def lr_extract_outputs(dataset):\n",
    "    \"\"\"\n",
    "    Outputs in the format supported by the logistic regressor.\n",
    "    \"\"\"\n",
    "    return dataset.target_class.values"
   ]
  },
  {
   "cell_type": "code",
   "execution_count": 15,
   "metadata": {},
   "outputs": [],
   "source": [
    "\n",
    "lr_model = Pipeline([\n",
    "    ('scaler', StandardScaler()),\n",
    "    ('classifier', LogisticRegression()),\n",
    "])"
   ]
  },
  {
   "cell_type": "code",
   "execution_count": 16,
   "metadata": {},
   "outputs": [
    {
     "data": {
      "text/plain": [
       "Pipeline(memory=None,\n",
       "     steps=[('scaler', StandardScaler(copy=True, with_mean=True, with_std=True)), ('classifier', LogisticRegression(C=1.0, class_weight=None, dual=False, fit_intercept=True,\n",
       "          intercept_scaling=1, max_iter=100, multi_class='warn',\n",
       "          n_jobs=None, penalty='l2', random_state=None, solver='warn',\n",
       "          tol=0.0001, verbose=0, warm_start=False))])"
      ]
     },
     "execution_count": 16,
     "metadata": {},
     "output_type": "execute_result"
    }
   ],
   "source": [
    "lr_model.fit(\n",
    "    lr_extract_inputs(train),\n",
    "    lr_extract_outputs(train),\n",
    ")"
   ]
  },
  {
   "cell_type": "code",
   "execution_count": 17,
   "metadata": {
    "scrolled": true
   },
   "outputs": [
    {
     "name": "stdout",
     "output_type": "stream",
     "text": [
      "train ################################################################################\n",
      "Accuracy: 0.98035015831626\n",
      "Precision: 0.9521028037383178\n",
      "Recall: 0.8274111675126904\n",
      "F1-score: 0.8853883758826725\n",
      "\n",
      "\n",
      "classification report :\n",
      "               precision    recall  f1-score   support\n",
      "\n",
      "           0       0.98      1.00      0.99      9753\n",
      "           1       0.95      0.83      0.89       985\n",
      "\n",
      "   micro avg       0.98      0.98      0.98     10738\n",
      "   macro avg       0.97      0.91      0.94     10738\n",
      "weighted avg       0.98      0.98      0.98     10738\n",
      "\n",
      "\n"
     ]
    },
    {
     "data": {
      "image/png": "[encoded data removed]",
      "text/plain": [
       "<Figure size 936x720 with 2 Axes>"
      ]
     },
     "metadata": {
      "needs_background": "light"
     },
     "output_type": "display_data"
    },
    {
     "name": "stdout",
     "output_type": "stream",
     "text": [
      "test ################################################################################\n",
      "Accuracy: 0.9784916201117319\n",
      "Precision: 0.927797833935018\n",
      "Recall: 0.8184713375796179\n",
      "F1-score: 0.8697123519458545\n",
      "\n",
      "\n",
      "classification report :\n",
      "               precision    recall  f1-score   support\n",
      "\n",
      "           0       0.98      0.99      0.99      3266\n",
      "           1       0.93      0.82      0.87       314\n",
      "\n",
      "   micro avg       0.98      0.98      0.98      3580\n",
      "   macro avg       0.96      0.91      0.93      3580\n",
      "weighted avg       0.98      0.98      0.98      3580\n",
      "\n",
      "\n"
     ]
    },
    {
     "data": {
      "image/png": "[encoded data removed]",
      "text/plain": [
       "<Figure size 936x720 with 2 Axes>"
      ]
     },
     "metadata": {
      "needs_background": "light"
     },
     "output_type": "display_data"
    },
    {
     "name": "stdout",
     "output_type": "stream",
     "text": [
      "validation ################################################################################\n",
      "Accuracy: 0.9743016759776536\n",
      "Precision: 0.9133333333333333\n",
      "Recall: 0.8058823529411765\n",
      "F1-score: 0.85625\n",
      "\n",
      "\n",
      "classification report :\n",
      "               precision    recall  f1-score   support\n",
      "\n",
      "           0       0.98      0.99      0.99      3240\n",
      "           1       0.91      0.81      0.86       340\n",
      "\n",
      "   micro avg       0.97      0.97      0.97      3580\n",
      "   macro avg       0.95      0.90      0.92      3580\n",
      "weighted avg       0.97      0.97      0.97      3580\n",
      "\n",
      "\n"
     ]
    },
    {
     "data": {
      "image/png": "[encoded data removed]",
      "text/plain": [
       "<Figure size 936x720 with 2 Axes>"
      ]
     },
     "metadata": {
      "needs_background": "light"
     },
     "output_type": "display_data"
    }
   ],
   "source": [
    "evaluate_model(lr_model, lr_extract_inputs, lr_extract_outputs)"
   ]
  },
  {
   "cell_type": "markdown",
   "metadata": {},
   "source": [
    "### Conclusión\n",
    "El modelo tiene un alto porcentaje de aciertos en F1-score (superior a 85%) para casos positivos de estrellas en Test y Validation. Esto concuerda con el análisis del dataset realizado en el TP anterior, ya que observamos a través de los graficos, que los datos podrían representarse muy bien con una regresión.\n",
    "\n",
    "Para ser un modelo sencillo y muy rápido de ejecutar es un resultado muy bueno."
   ]
  },
  {
   "cell_type": "markdown",
   "metadata": {},
   "source": [
    "## Segundo Modelo: K nearest neighbors"
   ]
  },
  {
   "cell_type": "code",
   "execution_count": 18,
   "metadata": {},
   "outputs": [],
   "source": [
    "from sklearn.neighbors import KNeighborsClassifier"
   ]
  },
  {
   "cell_type": "code",
   "execution_count": 19,
   "metadata": {},
   "outputs": [],
   "source": [
    "K = 5\n",
    "\n",
    "knn_model = Pipeline([\n",
    "    ('scaler', StandardScaler()),\n",
    "    ('classifier', KNeighborsClassifier(n_neighbors=K)),\n",
    "])"
   ]
  },
  {
   "cell_type": "code",
   "execution_count": 20,
   "metadata": {},
   "outputs": [
    {
     "data": {
      "text/plain": [
       "Pipeline(memory=None,\n",
       "     steps=[('scaler', StandardScaler(copy=True, with_mean=True, with_std=True)), ('classifier', KNeighborsClassifier(algorithm='auto', leaf_size=30, metric='minkowski',\n",
       "           metric_params=None, n_jobs=None, n_neighbors=5, p=2,\n",
       "           weights='uniform'))])"
      ]
     },
     "execution_count": 20,
     "metadata": {},
     "output_type": "execute_result"
    }
   ],
   "source": [
    "knn_model.fit(\n",
    "    lr_extract_inputs(train),\n",
    "    lr_extract_outputs(train),\n",
    ")"
   ]
  },
  {
   "cell_type": "code",
   "execution_count": 21,
   "metadata": {},
   "outputs": [
    {
     "name": "stdout",
     "output_type": "stream",
     "text": [
      "train ################################################################################\n",
      "Accuracy: 0.9829577202458558\n",
      "Precision: 0.9475446428571429\n",
      "Recall: 0.8619289340101522\n",
      "F1-score: 0.9027113237639552\n",
      "\n",
      "\n",
      "classification report :\n",
      "               precision    recall  f1-score   support\n",
      "\n",
      "           0       0.99      1.00      0.99      9753\n",
      "           1       0.95      0.86      0.90       985\n",
      "\n",
      "   micro avg       0.98      0.98      0.98     10738\n",
      "   macro avg       0.97      0.93      0.95     10738\n",
      "weighted avg       0.98      0.98      0.98     10738\n",
      "\n",
      "\n"
     ]
    },
    {
     "data": {
      "image/png": "[encoded data removed]",
      "text/plain": [
       "<Figure size 936x720 with 2 Axes>"
      ]
     },
     "metadata": {
      "needs_background": "light"
     },
     "output_type": "display_data"
    },
    {
     "name": "stdout",
     "output_type": "stream",
     "text": [
      "test ################################################################################\n",
      "Accuracy: 0.9776536312849162\n",
      "Precision: 0.903448275862069\n",
      "Recall: 0.8343949044585988\n",
      "F1-score: 0.8675496688741722\n",
      "\n",
      "\n",
      "classification report :\n",
      "               precision    recall  f1-score   support\n",
      "\n",
      "           0       0.98      0.99      0.99      3266\n",
      "           1       0.90      0.83      0.87       314\n",
      "\n",
      "   micro avg       0.98      0.98      0.98      3580\n",
      "   macro avg       0.94      0.91      0.93      3580\n",
      "weighted avg       0.98      0.98      0.98      3580\n",
      "\n",
      "\n"
     ]
    },
    {
     "data": {
      "image/png": "[encoded data removed]",
      "text/plain": [
       "<Figure size 936x720 with 2 Axes>"
      ]
     },
     "metadata": {
      "needs_background": "light"
     },
     "output_type": "display_data"
    },
    {
     "name": "stdout",
     "output_type": "stream",
     "text": [
      "validation ################################################################################\n",
      "Accuracy: 0.9751396648044692\n",
      "Precision: 0.919732441471572\n",
      "Recall: 0.8088235294117647\n",
      "F1-score: 0.860719874804382\n",
      "\n",
      "\n",
      "classification report :\n",
      "               precision    recall  f1-score   support\n",
      "\n",
      "           0       0.98      0.99      0.99      3240\n",
      "           1       0.92      0.81      0.86       340\n",
      "\n",
      "   micro avg       0.98      0.98      0.98      3580\n",
      "   macro avg       0.95      0.90      0.92      3580\n",
      "weighted avg       0.97      0.98      0.97      3580\n",
      "\n",
      "\n"
     ]
    },
    {
     "data": {
      "image/png": "[encoded data removed]",
      "text/plain": [
       "<Figure size 936x720 with 2 Axes>"
      ]
     },
     "metadata": {
      "needs_background": "light"
     },
     "output_type": "display_data"
    }
   ],
   "source": [
    "evaluate_model(knn_model, lr_extract_inputs, lr_extract_outputs)"
   ]
  },
  {
   "cell_type": "markdown",
   "metadata": {},
   "source": [
    "### Conclusión\n",
    "Al realizar el análisis del dataset en el TP anterior, observamos a través de los distintos gráficos que los datos se podían separar o agrupar fácilmente a partir de la variable de salida, por lo que decidimos probar crear un modelo k-NN. El resultado de aplicar dicho modelo fue el esperado, un porcentaje alto (por encima del 85%) para casos positivos en nuestra métrica F1-Score, tanto en Test como en Validation.\n",
    "\n",
    "Para ser un modelo sencillo y muy rápido de ejecutar es un resultado muy bueno."
   ]
  },
  {
   "cell_type": "markdown",
   "metadata": {},
   "source": [
    "## Tercer Modelo: Decision Trees"
   ]
  },
  {
   "cell_type": "code",
   "execution_count": 22,
   "metadata": {},
   "outputs": [],
   "source": [
    "from sklearn.tree import DecisionTreeClassifier"
   ]
  },
  {
   "cell_type": "code",
   "execution_count": 23,
   "metadata": {},
   "outputs": [],
   "source": [
    "TREE_INPUT_COLUMNS = [\n",
    "    'exceso de curtosis del perfil integrado',\n",
    "    'sesgo del perfil integrado',\n",
    "    'media del perfil integrado',\n",
    "    'exceso de curtosis de la curva DM-SNR',\n",
    "    'sesgo de la curva DM-SNR',\n",
    "    'desviacion estandar del perfil integrado',\n",
    "    'media de la curva DM-SNR',\n",
    "    'desviacion estandar de la curva DM-SNR',\n",
    "]\n",
    "\n",
    "#TREE_INPUT_COLUMS = [x for x in data.columns if x not in [\"target_class\"]]\n",
    "\n",
    "def tree_extract_inputs(dataset):\n",
    "    \"\"\"\n",
    "    Inputs in the format supported by the logistic regressor.\n",
    "    \"\"\"\n",
    "    # we don't want to modify the original dataset, that we will use with other models\n",
    "    inputs = dataset.copy()\n",
    "    \n",
    "    # return the raw numbers\n",
    "    return inputs[TREE_INPUT_COLUMNS].values\n",
    "\n",
    "def tree_extract_outputs(dataset):\n",
    "    \"\"\"\n",
    "    Outputs in the format supported by the logistic regressor.\n",
    "    \"\"\"\n",
    "    return dataset.target_class.values"
   ]
  },
  {
   "cell_type": "code",
   "execution_count": 24,
   "metadata": {},
   "outputs": [],
   "source": [
    "tree_model = DecisionTreeClassifier(criterion=\"entropy\", max_depth=5)"
   ]
  },
  {
   "cell_type": "code",
   "execution_count": 25,
   "metadata": {},
   "outputs": [
    {
     "data": {
      "text/plain": [
       "DecisionTreeClassifier(class_weight=None, criterion='entropy', max_depth=5,\n",
       "            max_features=None, max_leaf_nodes=None,\n",
       "            min_impurity_decrease=0.0, min_impurity_split=None,\n",
       "            min_samples_leaf=1, min_samples_split=2,\n",
       "            min_weight_fraction_leaf=0.0, presort=False, random_state=None,\n",
       "            splitter='best')"
      ]
     },
     "execution_count": 25,
     "metadata": {},
     "output_type": "execute_result"
    }
   ],
   "source": [
    "tree_model.fit(\n",
    "    tree_extract_inputs(train),\n",
    "    tree_extract_outputs(train),\n",
    ")"
   ]
  },
  {
   "cell_type": "code",
   "execution_count": 26,
   "metadata": {},
   "outputs": [
    {
     "name": "stdout",
     "output_type": "stream",
     "text": [
      "train ################################################################################\n",
      "Accuracy: 0.9823989569752282\n",
      "Precision: 0.9553775743707094\n",
      "Recall: 0.8477157360406091\n",
      "F1-score: 0.8983324367939752\n",
      "\n",
      "\n",
      "classification report :\n",
      "               precision    recall  f1-score   support\n",
      "\n",
      "           0       0.98      1.00      0.99      9753\n",
      "           1       0.96      0.85      0.90       985\n",
      "\n",
      "   micro avg       0.98      0.98      0.98     10738\n",
      "   macro avg       0.97      0.92      0.94     10738\n",
      "weighted avg       0.98      0.98      0.98     10738\n",
      "\n",
      "\n"
     ]
    },
    {
     "data": {
      "image/png": "[encoded data removed]",
      "text/plain": [
       "<Figure size 936x720 with 2 Axes>"
      ]
     },
     "metadata": {
      "needs_background": "light"
     },
     "output_type": "display_data"
    },
    {
     "name": "stdout",
     "output_type": "stream",
     "text": [
      "test ################################################################################\n",
      "Accuracy: 0.9773743016759776\n",
      "Precision: 0.911660777385159\n",
      "Recall: 0.821656050955414\n",
      "F1-score: 0.8643216080402011\n",
      "\n",
      "\n",
      "classification report :\n",
      "               precision    recall  f1-score   support\n",
      "\n",
      "           0       0.98      0.99      0.99      3266\n",
      "           1       0.91      0.82      0.86       314\n",
      "\n",
      "   micro avg       0.98      0.98      0.98      3580\n",
      "   macro avg       0.95      0.91      0.93      3580\n",
      "weighted avg       0.98      0.98      0.98      3580\n",
      "\n",
      "\n"
     ]
    },
    {
     "data": {
      "image/png": "[encoded data removed]",
      "text/plain": [
       "<Figure size 936x720 with 2 Axes>"
      ]
     },
     "metadata": {
      "needs_background": "light"
     },
     "output_type": "display_data"
    },
    {
     "name": "stdout",
     "output_type": "stream",
     "text": [
      "validation ################################################################################\n",
      "Accuracy: 0.9754189944134078\n",
      "Precision: 0.9144736842105263\n",
      "Recall: 0.8176470588235294\n",
      "F1-score: 0.8633540372670807\n",
      "\n",
      "\n",
      "classification report :\n",
      "               precision    recall  f1-score   support\n",
      "\n",
      "           0       0.98      0.99      0.99      3240\n",
      "           1       0.91      0.82      0.86       340\n",
      "\n",
      "   micro avg       0.98      0.98      0.98      3580\n",
      "   macro avg       0.95      0.90      0.92      3580\n",
      "weighted avg       0.97      0.98      0.97      3580\n",
      "\n",
      "\n"
     ]
    },
    {
     "data": {
      "image/png": "[encoded data removed]",
      "text/plain": [
       "<Figure size 936x720 with 2 Axes>"
      ]
     },
     "metadata": {
      "needs_background": "light"
     },
     "output_type": "display_data"
    }
   ],
   "source": [
    "evaluate_model(tree_model, tree_extract_inputs, tree_extract_outputs)"
   ]
  },
  {
   "cell_type": "markdown",
   "metadata": {},
   "source": [
    "### Conclusión\n",
    "\n",
    "El resultado tanto en Test como en Validation es muy bueno (superior al 85%) para casos positivos. Probando con distintos valores para max_depth, encontramos que el mejor resultado lo arrojaba con max_depth=5, ya que con valores superiores, el modelo empezaba a sobre entrenarse, y con valores menores, el porcentaje de aciertos era inferior."
   ]
  },
  {
   "cell_type": "markdown",
   "metadata": {},
   "source": [
    "## Random Forests"
   ]
  },
  {
   "cell_type": "code",
   "execution_count": 27,
   "metadata": {},
   "outputs": [],
   "source": [
    "from sklearn.ensemble import RandomForestClassifier"
   ]
  },
  {
   "cell_type": "code",
   "execution_count": 28,
   "metadata": {},
   "outputs": [],
   "source": [
    "forest_model = RandomForestClassifier(n_estimators = 50, max_depth=5)"
   ]
  },
  {
   "cell_type": "code",
   "execution_count": 29,
   "metadata": {},
   "outputs": [
    {
     "data": {
      "text/plain": [
       "RandomForestClassifier(bootstrap=True, class_weight=None, criterion='gini',\n",
       "            max_depth=5, max_features='auto', max_leaf_nodes=None,\n",
       "            min_impurity_decrease=0.0, min_impurity_split=None,\n",
       "            min_samples_leaf=1, min_samples_split=2,\n",
       "            min_weight_fraction_leaf=0.0, n_estimators=50, n_jobs=None,\n",
       "            oob_score=False, random_state=None, verbose=0,\n",
       "            warm_start=False)"
      ]
     },
     "execution_count": 29,
     "metadata": {},
     "output_type": "execute_result"
    }
   ],
   "source": [
    "forest_model.fit(\n",
    "    tree_extract_inputs(train),\n",
    "    tree_extract_outputs(train),\n",
    ")"
   ]
  },
  {
   "cell_type": "code",
   "execution_count": 30,
   "metadata": {},
   "outputs": [
    {
     "name": "stdout",
     "output_type": "stream",
     "text": [
      "train ################################################################################\n",
      "Accuracy: 0.9821195753399143\n",
      "Precision: 0.9531428571428572\n",
      "Recall: 0.8467005076142132\n",
      "F1-score: 0.896774193548387\n",
      "\n",
      "\n",
      "classification report :\n",
      "               precision    recall  f1-score   support\n",
      "\n",
      "           0       0.98      1.00      0.99      9753\n",
      "           1       0.95      0.85      0.90       985\n",
      "\n",
      "   micro avg       0.98      0.98      0.98     10738\n",
      "   macro avg       0.97      0.92      0.94     10738\n",
      "weighted avg       0.98      0.98      0.98     10738\n",
      "\n",
      "\n"
     ]
    },
    {
     "data": {
      "image/png": "[encoded data removed]",
      "text/plain": [
       "<Figure size 936x720 with 2 Axes>"
      ]
     },
     "metadata": {
      "needs_background": "light"
     },
     "output_type": "display_data"
    },
    {
     "name": "stdout",
     "output_type": "stream",
     "text": [
      "test ################################################################################\n",
      "Accuracy: 0.9776536312849162\n",
      "Precision: 0.9148936170212766\n",
      "Recall: 0.821656050955414\n",
      "F1-score: 0.865771812080537\n",
      "\n",
      "\n",
      "classification report :\n",
      "               precision    recall  f1-score   support\n",
      "\n",
      "           0       0.98      0.99      0.99      3266\n",
      "           1       0.91      0.82      0.87       314\n",
      "\n",
      "   micro avg       0.98      0.98      0.98      3580\n",
      "   macro avg       0.95      0.91      0.93      3580\n",
      "weighted avg       0.98      0.98      0.98      3580\n",
      "\n",
      "\n"
     ]
    },
    {
     "data": {
      "image/png": "[encoded data removed]",
      "text/plain": [
       "<Figure size 936x720 with 2 Axes>"
      ]
     },
     "metadata": {
      "needs_background": "light"
     },
     "output_type": "display_data"
    },
    {
     "name": "stdout",
     "output_type": "stream",
     "text": [
      "validation ################################################################################\n",
      "Accuracy: 0.9762569832402235\n",
      "Precision: 0.9292929292929293\n",
      "Recall: 0.8117647058823529\n",
      "F1-score: 0.8665620094191523\n",
      "\n",
      "\n",
      "classification report :\n",
      "               precision    recall  f1-score   support\n",
      "\n",
      "           0       0.98      0.99      0.99      3240\n",
      "           1       0.93      0.81      0.87       340\n",
      "\n",
      "   micro avg       0.98      0.98      0.98      3580\n",
      "   macro avg       0.95      0.90      0.93      3580\n",
      "weighted avg       0.98      0.98      0.98      3580\n",
      "\n",
      "\n"
     ]
    },
    {
     "data": {
      "image/png": "[encoded data removed]",
      "text/plain": [
       "<Figure size 936x720 with 2 Axes>"
      ]
     },
     "metadata": {
      "needs_background": "light"
     },
     "output_type": "display_data"
    }
   ],
   "source": [
    "evaluate_model(forest_model, tree_extract_inputs, tree_extract_outputs)"
   ]
  },
  {
   "cell_type": "markdown",
   "metadata": {},
   "source": [
    "### Conclusión\n",
    "\n",
    "El resultado para Test y en Validation es mayor al 85%, por lo que se asemeja al modelo anterior con la misma profundidad. Probando con distintos valores para los estimadores, los resultados variaban muy poco. A diferencia de lo que podíamos imaginar, los resultados no son muy superiores al modelo anterior.\n"
   ]
  },
  {
   "cell_type": "markdown",
   "metadata": {},
   "source": [
    "## Conclusión final\n",
    "\n",
    "Los distintos modelos, arrojan resultados similares (superiores al 85%) para casos positivos. Si tendríamos que elegir algún modelo, sería regresión logística, ya que nos da uno de los resultados más altos y a su vez es uno de los modelos más simples de realizar. "
   ]
  },
  {
   "cell_type": "markdown",
   "metadata": {},
   "source": [
    "## Valor final de la métrica\n",
    "\n",
    "Para eso, podríamos indicar el valor que nos dió la ejecución de Regresión Logística, pero para estar seguros, decidimos hacer un promedio de varias ejecuciones del modelo."
   ]
  },
  {
   "cell_type": "code",
   "execution_count": 31,
   "metadata": {},
   "outputs": [
    {
     "name": "stdout",
     "output_type": "stream",
     "text": [
      "El f1_score promedio con 100 iteraciones en Test es: 0.8755797589571344\n",
      "El f1_score promedio con 100 iteraciones en Validation es: 0.8735776221684152\n"
     ]
    }
   ],
   "source": [
    "f1_test = 0\n",
    "f1_validation = 0\n",
    "n=100\n",
    "\n",
    "for i in range(n):\n",
    "    \n",
    "    train, not_train = train_test_split(data, test_size=0.4)\n",
    "    validation, test = train_test_split(not_train, test_size=0.5)\n",
    "    \n",
    "    lr_model = Pipeline([\n",
    "        ('scaler', StandardScaler()),\n",
    "        ('classifier', LogisticRegression()),\n",
    "    ])\n",
    "    \n",
    "    lr_model.fit(\n",
    "        lr_extract_inputs(train),\n",
    "        lr_extract_outputs(train),\n",
    "    )\n",
    "    \n",
    "    #Test\n",
    "    inputs = lr_extract_inputs(test)\n",
    "    outputs = lr_extract_outputs(test)\n",
    "    predictions = lr_model.predict(inputs)    \n",
    "    f1_test += f1_score(outputs, predictions)\n",
    "    \n",
    "    #Validation\n",
    "    inputs = lr_extract_inputs(validation)\n",
    "    outputs = lr_extract_outputs(validation)\n",
    "    predictions = lr_model.predict(inputs)        \n",
    "    f1_validation += f1_score(outputs, predictions)\n",
    "    \n",
    "print('El f1_score promedio con ' + str(n) + ' iteraciones en Test es: ' + str(f1_test/n))\n",
    "print('El f1_score promedio con ' + str(n) + ' iteraciones en Validation es: ' + str(f1_validation/n))"
   ]
  },
  {
   "cell_type": "markdown",
   "metadata": {},
   "source": [
    "Los resultados obtenidos son muy similares a la primera ejecución del modelo, por lo que el valor final para la métrica f1_score es 87%."
   ]
  },
  {
   "cell_type": "code",
   "execution_count": null,
   "metadata": {},
   "outputs": [],
   "source": []
  }
 ],
 "metadata": {
  "kernelspec": {
   "display_name": "Python 3",
   "language": "python",
   "name": "python3"
  },
  "language_info": {
   "codemirror_mode": {
    "name": "ipython",
    "version": 3
   },
   "file_extension": ".py",
   "mimetype": "text/x-python",
   "name": "python",
   "nbconvert_exporter": "python",
   "pygments_lexer": "ipython3",
   "version": "3.7.3"
  }
 },
 "nbformat": 4,
 "nbformat_minor": 2
}
