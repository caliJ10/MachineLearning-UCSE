{
 "cells": [
  {
   "cell_type": "markdown",
   "metadata": {},
   "source": [
    "# Trabajo Práctico 2"
   ]
  },
  {
   "cell_type": "code",
   "execution_count": null,
   "metadata": {},
   "outputs": [],
   "source": [
    "# imports de libs que usamos para leer y procesar datos en masa\n",
    "import os\n",
    "import csv\n",
    "import zipfile\n",
    "import io\n",
    "import sys\n",
    "import shutil\n",
    "import random\n",
    "\n",
    "import numpy as np\n",
    "import pandas as pd\n",
    "from PIL import Image\n",
    "\n",
    "# lib que usamos para mostrar las imágenes\n",
    "import matplotlib.pyplot as plt\n",
    "\n",
    "# libs que usamos para tareas generales de machine learning: separar conjuntos de datos, evaluar exactitud, etc\n",
    "from sklearn.model_selection import train_test_split\n",
    "from sklearn.metrics import accuracy_score, confusion_matrix, precision_score, recall_score\n",
    "\n",
    "# libs que usamos para construir y entrenar redes neuronales\n",
    "from keras.models import Sequential, Model\n",
    "from keras.layers import Dense, Input, Dropout, Convolution2D, MaxPooling2D, Flatten, Activation\n",
    "from keras.layers.normalization import BatchNormalization\n",
    "\n",
    "# configuración para que las imágenes se vean dentro del notebook\n",
    "%matplotlib inline\n",
    "\n",
    "import warnings\n",
    "warnings.filterwarnings(\"ignore\")"
   ]
  },
  {
   "cell_type": "code",
   "execution_count": null,
   "metadata": {},
   "outputs": [],
   "source": [
    "test_path ='../datasets/shipsnet/test/'\n",
    "train_path ='../datasets/shipsnet/train/'\n",
    "#train = pd.read_csv(zf.open('train.csv'))\n",
    "#train.shape"
   ]
  },
  {
   "cell_type": "code",
   "execution_count": null,
   "metadata": {},
   "outputs": [],
   "source": [
    "def load_data(data_dir):\n",
    "    dirs = [d for d in os.listdir(data_dir)]\n",
    "           #if os.path.isdir(os.path.join(data_dir,d))]\n",
    "    print(dirs)"
   ]
  },
  {
   "cell_type": "code",
   "execution_count": null,
   "metadata": {},
   "outputs": [],
   "source": [
    "width, height = 80,80\n",
    "channels = 3\n",
    "directorio_training = '../datasets/shipsnet/train/'\n",
    "directorio_testing = '../datasets/shipsnet/test/'\n",
    "columns = []\n",
    "\n",
    "#Agregamos los nombres de las columnas a ambos csv.\n",
    "\n",
    "'''for color in range(channels):\n",
    "    count = 0\n",
    "    for x in range(width):\n",
    "        for y in range(height):\n",
    "            if color == 0:\n",
    "                columns.append(\"R\" + str(count))\n",
    "            elif color == 1: \n",
    "                columns.append(\"G\" + str(count))\n",
    "            elif color == 2: \n",
    "                columns.append(\"B\" + str(count))\n",
    "            count += 1'''\n",
    "count=0\n",
    "for x in range(width):\n",
    "    for y in range(height):\n",
    "        columns.append(\"P\" + str(count))\n",
    "        count += 1\n",
    "columns.append(\"target_class\")\n",
    "columns.append(\"name\")\n",
    "\n",
    "with open('../datasets/shipsnet/train.csv', 'w+') as f:\n",
    "    thewriter = csv.writer(f) \n",
    "    thewriter.writerow(columns)\n",
    "\n",
    "with open('../datasets/shipsnet/test.csv', 'w+') as f:\n",
    "    thewriter = csv.writer(f)\n",
    "    thewriter.writerow(columns)\n",
    "\n",
    "\n",
    "#Recorremos la carpeta de Training, cargamos los datos de la imagen, recorremos todos los pixeles \n",
    "#y agregamos una nueva fila en el csv.\n",
    "\n",
    "'''for subdir, dirs, files in os.walk(directorio_training):\n",
    "    fruta = os.path.basename(subdir)\n",
    "    for file in files:\n",
    "        im = Image.open(os.path.join(subdir, file))\n",
    "        path = os.path.join(subdir, file)        \n",
    "        im.thumbnail((width,height))\n",
    "        pix = im.load()        \n",
    "        datos_imagen = []\n",
    "        for color in range(channels):\n",
    "            for x in range(width):\n",
    "                for y in range(height):\n",
    "                    if color == 0:                    \n",
    "                        r = pix[x,y][0]\n",
    "                        datos_imagen.append(r)\n",
    "                    elif color == 1:\n",
    "                        g = pix[x,y][1]\n",
    "                        datos_imagen.append(g)\n",
    "                    elif color == 2:\n",
    "                        b = pix[x,y][2]                \n",
    "                        datos_imagen.append(b) \n",
    "        datos_imagen.append(fruta)\n",
    "        datos_imagen.append(path)\n",
    "        with open('train.csv', 'a') as f:\n",
    "            thewriter = csv.writer(f) \n",
    "            thewriter.writerow(datos_imagen)'''\n",
    "\n",
    "#Recorremos la carpeta de Validation, cargamos los datos de la imagen, recorremos todos los pixeles \n",
    "#y agregamos una nueva fila en el csv.\n",
    "\n",
    "'''for subdir, dirs, files in os.walk(directorio_testing):\n",
    "    fruta = os.path.basename(subdir)\n",
    "    for file in files:\n",
    "        im = Image.open(os.path.join(subdir, file))\n",
    "        path = os.path.join(subdir, file)\n",
    "        im.thumbnail((width,height))\n",
    "        pix = im.load()\n",
    "\n",
    "        datos_imagen = []\n",
    "        for color in range(channels):\n",
    "            for x in range(width):\n",
    "                for y in range(height):\n",
    "                    if color == 0:                    \n",
    "                        r = pix[x,y][0]\n",
    "                        datos_imagen.append(r)\n",
    "                    elif color == 1:\n",
    "                        g = pix[x,y][1]\n",
    "                        datos_imagen.append(g)\n",
    "                    elif color == 2:\n",
    "                        b = pix[x,y][2]                \n",
    "                        datos_imagen.append(b) \n",
    "        datos_imagen.append(fruta)\n",
    "        datos_imagen.append(path)\n",
    "        with open('test.csv', 'a') as f:\n",
    "            thewriter = csv.writer(f) \n",
    "            thewriter.writerow(datos_imagen)'''"
   ]
  },
  {
   "cell_type": "code",
   "execution_count": null,
   "metadata": {},
   "outputs": [],
   "source": [
    "train = pd.read_csv('../datasets/shipsnet/train.csv')\n",
    "train.shape"
   ]
  },
  {
   "cell_type": "code",
   "execution_count": null,
   "metadata": {},
   "outputs": [],
   "source": [
    "dirname = os.listdir('../datasets/shipsnet/shipsnet')"
   ]
  },
  {
   "cell_type": "code",
   "execution_count": null,
   "metadata": {},
   "outputs": [],
   "source": [
    "random.shuffle(dirname)"
   ]
  },
  {
   "cell_type": "code",
   "execution_count": null,
   "metadata": {},
   "outputs": [],
   "source": [
    "for x in range(len(dirname)):\n",
    "    if x < 3200:\n",
    "        shutil.copy('../datasets/shipsnet/shipsnet/'+dirname[x], '../datasets/shipsnet/train')\n",
    "    else:\n",
    "        shutil.copy('../datasets/shipsnet/shipsnet/'+dirname[x], '../datasets/shipsnet/test')"
   ]
  },
  {
   "cell_type": "code",
   "execution_count": null,
   "metadata": {},
   "outputs": [],
   "source": [
    "def createFileList(myDir, format='.png'):\n",
    "    fileList = []\n",
    "    print(myDir)\n",
    "    for root, dirs, files in os.walk(myDir, topdown=False):\n",
    "        for name in files:\n",
    "            if name.endswith(format):\n",
    "                fullName = os.path.join(root, name)\n",
    "                fileList.append(fullName)\n",
    "    return fileList"
   ]
  },
  {
   "cell_type": "code",
   "execution_count": null,
   "metadata": {},
   "outputs": [],
   "source": [
    "myFileList = createFileList(train_path)"
   ]
  },
  {
   "cell_type": "code",
   "execution_count": null,
   "metadata": {},
   "outputs": [],
   "source": [
    "file = myFileList[0]"
   ]
  },
  {
   "cell_type": "code",
   "execution_count": null,
   "metadata": {},
   "outputs": [],
   "source": [
    "img_file = Image.open(file)\n",
    "img_file"
   ]
  },
  {
   "cell_type": "code",
   "execution_count": null,
   "metadata": {},
   "outputs": [],
   "source": [
    "img_grey = img_file.convert('L')"
   ]
  },
  {
   "cell_type": "code",
   "execution_count": null,
   "metadata": {},
   "outputs": [],
   "source": [
    "img_grey"
   ]
  },
  {
   "cell_type": "code",
   "execution_count": null,
   "metadata": {},
   "outputs": [],
   "source": [
    "getdat = img_grey.load()\n",
    "getdat[0,1]"
   ]
  },
  {
   "cell_type": "code",
   "execution_count": null,
   "metadata": {},
   "outputs": [],
   "source": [
    "value = np.asarray(img_grey.getdata(), dtype=np.int).reshape((img_grey.size[1], img_grey.size[0]))"
   ]
  },
  {
   "cell_type": "code",
   "execution_count": null,
   "metadata": {},
   "outputs": [],
   "source": [
    "value"
   ]
  },
  {
   "cell_type": "code",
   "execution_count": null,
   "metadata": {},
   "outputs": [],
   "source": [
    "len(value)"
   ]
  },
  {
   "cell_type": "code",
   "execution_count": null,
   "metadata": {},
   "outputs": [],
   "source": [
    "value = value.flatten()"
   ]
  },
  {
   "cell_type": "code",
   "execution_count": null,
   "metadata": {},
   "outputs": [],
   "source": [
    "value"
   ]
  },
  {
   "cell_type": "code",
   "execution_count": null,
   "metadata": {},
   "outputs": [],
   "source": [
    "len(value)"
   ]
  },
  {
   "cell_type": "code",
   "execution_count": null,
   "metadata": {},
   "outputs": [],
   "source": [
    "pix = img_file.load()\n",
    "pix[0,0]"
   ]
  },
  {
   "cell_type": "code",
   "execution_count": null,
   "metadata": {},
   "outputs": [],
   "source": [
    "datos_imagen = []\n",
    "\n",
    "for w in range(img_grey.size[0]):\n",
    "    for h in range(img_grey.size[1]):\n",
    "        datos_imagen.append(getdat[w,h])"
   ]
  },
  {
   "cell_type": "code",
   "execution_count": null,
   "metadata": {},
   "outputs": [],
   "source": [
    "datos_imagen"
   ]
  },
  {
   "cell_type": "code",
   "execution_count": null,
   "metadata": {},
   "outputs": [],
   "source": [
    "len(datos_imagen)"
   ]
  },
  {
   "cell_type": "code",
   "execution_count": null,
   "metadata": {},
   "outputs": [],
   "source": []
  },
  {
   "cell_type": "code",
   "execution_count": null,
   "metadata": {},
   "outputs": [],
   "source": []
  },
  {
   "cell_type": "code",
   "execution_count": null,
   "metadata": {},
   "outputs": [],
   "source": []
  },
  {
   "cell_type": "code",
   "execution_count": null,
   "metadata": {},
   "outputs": [],
   "source": [
    "pix = img_grey.load()\n",
    "pix[0,0]"
   ]
  },
  {
   "cell_type": "code",
   "execution_count": null,
   "metadata": {},
   "outputs": [],
   "source": [
    "datos_imagen = []\n",
    "datos_imagen.append(getdat[0][0])"
   ]
  },
  {
   "cell_type": "code",
   "execution_count": null,
   "metadata": {},
   "outputs": [],
   "source": [
    "datos_imagen"
   ]
  },
  {
   "cell_type": "code",
   "execution_count": null,
   "metadata": {},
   "outputs": [],
   "source": [
    "value = np.asarray(img_grey.getdata(), dtype=np.int).reshape((img_grey.size[1], img_grey.size[0]))"
   ]
  },
  {
   "cell_type": "code",
   "execution_count": null,
   "metadata": {},
   "outputs": [],
   "source": []
  },
  {
   "cell_type": "code",
   "execution_count": null,
   "metadata": {},
   "outputs": [],
   "source": []
  },
  {
   "cell_type": "code",
   "execution_count": null,
   "metadata": {},
   "outputs": [],
   "source": [
    "varx = 0\n",
    "for file in myFileList:\n",
    "    \n",
    "    target = file.split('/')\n",
    "    name = target[4]\n",
    "    target_class =  int(target[4].split('__')[0])\n",
    "    \n",
    "    print(name,target_class)\n",
    "    img_file = Image.open(file)\n",
    "    if varx == 0:\n",
    "        img_file.show()\n",
    "\n",
    "    # get original image parameters...\n",
    "    width, height = img_file.size\n",
    "    format = img_file.format\n",
    "    mode = img_file.mode\n",
    "\n",
    "    # Make image Greyscale\n",
    "    img_grey = img_file.convert('L')\n",
    "    if varx == 0:\n",
    "        img_grey.show()\n",
    "    #img_grey.save('result.png')\n",
    "    #img_grey.show()\n",
    "    \n",
    "    varx = varx+1\n",
    "\n",
    "    # Save Greyscale values\n",
    "    \n",
    "    pix = img_grey.load()\n",
    "    datos_imagen = []\n",
    "\n",
    "    for w in range(img_grey.size[0]):\n",
    "        for h in range(img_grey.size[1]):\n",
    "            datos_imagen.append(pix[w,h])\n",
    "    \n",
    "    #value = np.asarray(img_grey.getdata(), dtype=np.int).reshape((img_grey.size[1], img_grey.size[0]))\n",
    "    datos_imagen.append(target_class)\n",
    "    datos_imagen.append(name)\n",
    "\n",
    "    #value = value.flatten()\n",
    "    \n",
    "    #print(value)\n",
    "    with open(\"../datasets/shipsnet/train.csv\", 'a') as f:\n",
    "        writer = csv.writer(f)\n",
    "        writer.writerow(datos_imagen)"
   ]
  },
  {
   "cell_type": "code",
   "execution_count": null,
   "metadata": {},
   "outputs": [],
   "source": [
    "data_train = pd.read_csv('../datasets/shipsnet/train.csv')"
   ]
  },
  {
   "cell_type": "code",
   "execution_count": null,
   "metadata": {},
   "outputs": [],
   "source": [
    "data_train.shape"
   ]
  },
  {
   "cell_type": "code",
   "execution_count": null,
   "metadata": {},
   "outputs": [],
   "source": [
    "data_train.sample(5)"
   ]
  },
  {
   "cell_type": "code",
   "execution_count": null,
   "metadata": {},
   "outputs": [],
   "source": [
    "data_test = pd.read_csv('../datasets/shipsnet/test.csv')"
   ]
  },
  {
   "cell_type": "code",
   "execution_count": null,
   "metadata": {},
   "outputs": [],
   "source": [
    "data_test.shape"
   ]
  },
  {
   "cell_type": "code",
   "execution_count": null,
   "metadata": {},
   "outputs": [],
   "source": [
    "data_test.head(5)"
   ]
  },
  {
   "cell_type": "code",
   "execution_count": null,
   "metadata": {},
   "outputs": [],
   "source": [
    "data_train.target_class.value_counts().plot.pie(autopct='%1.0f%%', figsize=(4,4))"
   ]
  },
  {
   "cell_type": "code",
   "execution_count": null,
   "metadata": {},
   "outputs": [],
   "source": [
    "PICTURE_SIZE = 80\n",
    "CHANNELS = 'N'\n",
    "\n",
    "INPUT_COLUMNS = []\n",
    "INPUT_COLUMNS = [x for x in data_train.columns if x not in [\"target_class\",\"name\"]]"
   ]
  },
  {
   "cell_type": "code",
   "execution_count": null,
   "metadata": {},
   "outputs": [],
   "source": [
    "def show_images(samples, title='file'):\n",
    "    for index, sample in samples.iterrows():\n",
    "        if  title is not None:\n",
    "            if isinstance(title, str):\n",
    "                title = [title, ]\n",
    "            title_text = ', '.join(str(sample[title_field]) for title_field in title)\n",
    "            plt.title(title_text)\n",
    "            \n",
    "        sample_as_grid = sample[INPUT_COLUMNS].values.reshape(PICTURE_SIZE, PICTURE_SIZE).astype(np.float)\n",
    "        #sample_as_grid = np.transpose(sample_as_grid, (1,2,0)) / 100\n",
    "        plt.axis('off')\n",
    "        plt.imshow(sample_as_grid)\n",
    "        plt.show()"
   ]
  },
  {
   "cell_type": "code",
   "execution_count": null,
   "metadata": {},
   "outputs": [],
   "source": [
    "show_images(data_train.sample(5), 'name')"
   ]
  },
  {
   "cell_type": "code",
   "execution_count": null,
   "metadata": {},
   "outputs": [],
   "source": [
    "# Funciones para redes neuronales tradicionales \n",
    "\n",
    "def extract_inputs(dataset):\n",
    "    return dataset[INPUT_COLUMNS].values / 100\n",
    "\n",
    "def extract_inputs_convolutional(dataset):\n",
    "    return dataset[INPUT_COLUMNS].values.reshape(len(dataset), PICTURE_SIZE, PICTURE_SIZE, len(CHANNELS)) / 100\n",
    "\n",
    "def extract_outputs(dataset):\n",
    "    is_fruits_columns = [(dataset.nombres_frutas == nombres_frutas).values for nombres_frutas in FRUTAS]\n",
    "    return np.array(is_fruits_columns).T"
   ]
  }
 ],
 "metadata": {
  "kernelspec": {
   "display_name": "Python 3",
   "language": "python",
   "name": "python3"
  },
  "language_info": {
   "codemirror_mode": {
    "name": "ipython",
    "version": 3
   },
   "file_extension": ".py",
   "mimetype": "text/x-python",
   "name": "python",
   "nbconvert_exporter": "python",
   "pygments_lexer": "ipython3",
   "version": "3.7.3"
  }
 },
 "nbformat": 4,
 "nbformat_minor": 2
}
