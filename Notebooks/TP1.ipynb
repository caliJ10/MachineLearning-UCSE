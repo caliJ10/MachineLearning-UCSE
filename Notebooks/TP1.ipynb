{
 "cells": [
  {
   "cell_type": "code",
   "execution_count": 1,
   "metadata": {},
   "outputs": [],
   "source": [
    "import pandas as pd\n",
    "import matplotlib.pyplot as plt\n",
    "import numpy as np\n",
    "import seaborn as sns"
   ]
  },
  {
   "cell_type": "markdown",
   "metadata": {},
   "source": [
    "data = pd.read_csv('../datasets/pulsar-stars/pulsar_stars.csv')"
   ]
  },
  {
   "cell_type": "markdown",
   "metadata": {},
   "source": [
    "La superposición de algunos centenares de pulsos registrados, da el perfil integrado del pulso, el cual es normalmente estable y característico para cada púlsar.\n",
    "El perfil integrado está constituido por una gran variedad de pulsos individuales, cada uno de los cuales tiene más de una componente: es la distribución estadística de estas componentes sobre un rango de longitudes, combinado con sus característicos anchos de banda y la distribución de probabilidad de sus intensidades lo que determina la forma repetitiva del perfil integrado.\n",
    "Cada candidato consta de una selección de parámetros candidatos, que incluyen el período optimizado y la medida de dispersión (DM) del púlsar, así como la relación señal-ruido (SNR) detectada en varios métodos de búsqueda."
   ]
  },
  {
   "cell_type": "code",
   "execution_count": 23,
   "metadata": {},
   "outputs": [],
   "source": [
    "NOMBRES_COLUMNAS = {\n",
    "    'Mean of the integrated profile' : 'media del perfil integrado',\n",
    "    'Standard deviation of the integrated profile' : 'desviacion estandar del perfil integrado',\n",
    "    'Excess kurtosis of the integrated profile' : 'exceso de curtosis del perfil integrado',\n",
    "    'Skewness of the integrated profile' : 'sesgo del perfil integrado',\n",
    "    'Mean of the DM-SNR curve' : 'media de la curva DM-SNR',\n",
    "    'Standard deviation of the DM-SNR curve' : 'desviacion estandar de la curva DM-SNR',\n",
    "    'Excess kurtosis of the DM-SNR curve' : 'exceso de curtosis de la curva DM-SNR',\n",
    "    'Skewness of the DM-SNR curve' : 'sesgo de la curva DM-SNR',\n",
    "    'target_class' : 'target_class',\n",
    "}\n",
    "data.rename(columns=NOMBRES_COLUMNAS, inplace=True)"
   ]
  },
  {
   "cell_type": "code",
   "execution_count": 24,
   "metadata": {},
   "outputs": [
    {
     "data": {
      "text/html": [
       "<div>\n",
       "<style scoped>\n",
       "    .dataframe tbody tr th:only-of-type {\n",
       "        vertical-align: middle;\n",
       "    }\n",
       "\n",
       "    .dataframe tbody tr th {\n",
       "        vertical-align: top;\n",
       "    }\n",
       "\n",
       "    .dataframe thead th {\n",
       "        text-align: right;\n",
       "    }\n",
       "</style>\n",
       "<table border=\"1\" class=\"dataframe\">\n",
       "  <thead>\n",
       "    <tr style=\"text-align: right;\">\n",
       "      <th></th>\n",
       "      <th>media del perfil integrado</th>\n",
       "      <th>desviacion estandar del perfil integrado</th>\n",
       "      <th>exceso de curtosis del perfil integrado</th>\n",
       "      <th>sesgo del perfil integrado</th>\n",
       "      <th>media de la curva DM-SNR</th>\n",
       "      <th>desviacion estandar de la curva DM-SNR</th>\n",
       "      <th>exceso de curtosis de la curva DM-SNR</th>\n",
       "      <th>sesgo de la curva DM-SNR</th>\n",
       "      <th>target_class</th>\n",
       "    </tr>\n",
       "  </thead>\n",
       "  <tbody>\n",
       "    <tr>\n",
       "      <th>0</th>\n",
       "      <td>140.562500</td>\n",
       "      <td>55.683782</td>\n",
       "      <td>-0.234571</td>\n",
       "      <td>-0.699648</td>\n",
       "      <td>3.199833</td>\n",
       "      <td>19.110426</td>\n",
       "      <td>7.975532</td>\n",
       "      <td>74.242225</td>\n",
       "      <td>0</td>\n",
       "    </tr>\n",
       "    <tr>\n",
       "      <th>1</th>\n",
       "      <td>102.507812</td>\n",
       "      <td>58.882430</td>\n",
       "      <td>0.465318</td>\n",
       "      <td>-0.515088</td>\n",
       "      <td>1.677258</td>\n",
       "      <td>14.860146</td>\n",
       "      <td>10.576487</td>\n",
       "      <td>127.393580</td>\n",
       "      <td>0</td>\n",
       "    </tr>\n",
       "    <tr>\n",
       "      <th>2</th>\n",
       "      <td>103.015625</td>\n",
       "      <td>39.341649</td>\n",
       "      <td>0.323328</td>\n",
       "      <td>1.051164</td>\n",
       "      <td>3.121237</td>\n",
       "      <td>21.744669</td>\n",
       "      <td>7.735822</td>\n",
       "      <td>63.171909</td>\n",
       "      <td>0</td>\n",
       "    </tr>\n",
       "    <tr>\n",
       "      <th>3</th>\n",
       "      <td>136.750000</td>\n",
       "      <td>57.178449</td>\n",
       "      <td>-0.068415</td>\n",
       "      <td>-0.636238</td>\n",
       "      <td>3.642977</td>\n",
       "      <td>20.959280</td>\n",
       "      <td>6.896499</td>\n",
       "      <td>53.593661</td>\n",
       "      <td>0</td>\n",
       "    </tr>\n",
       "    <tr>\n",
       "      <th>4</th>\n",
       "      <td>88.726562</td>\n",
       "      <td>40.672225</td>\n",
       "      <td>0.600866</td>\n",
       "      <td>1.123492</td>\n",
       "      <td>1.178930</td>\n",
       "      <td>11.468720</td>\n",
       "      <td>14.269573</td>\n",
       "      <td>252.567306</td>\n",
       "      <td>0</td>\n",
       "    </tr>\n",
       "    <tr>\n",
       "      <th>5</th>\n",
       "      <td>93.570312</td>\n",
       "      <td>46.698114</td>\n",
       "      <td>0.531905</td>\n",
       "      <td>0.416721</td>\n",
       "      <td>1.636288</td>\n",
       "      <td>14.545074</td>\n",
       "      <td>10.621748</td>\n",
       "      <td>131.394004</td>\n",
       "      <td>0</td>\n",
       "    </tr>\n",
       "    <tr>\n",
       "      <th>6</th>\n",
       "      <td>119.484375</td>\n",
       "      <td>48.765059</td>\n",
       "      <td>0.031460</td>\n",
       "      <td>-0.112168</td>\n",
       "      <td>0.999164</td>\n",
       "      <td>9.279612</td>\n",
       "      <td>19.206230</td>\n",
       "      <td>479.756567</td>\n",
       "      <td>0</td>\n",
       "    </tr>\n",
       "    <tr>\n",
       "      <th>7</th>\n",
       "      <td>130.382812</td>\n",
       "      <td>39.844056</td>\n",
       "      <td>-0.158323</td>\n",
       "      <td>0.389540</td>\n",
       "      <td>1.220736</td>\n",
       "      <td>14.378941</td>\n",
       "      <td>13.539456</td>\n",
       "      <td>198.236457</td>\n",
       "      <td>0</td>\n",
       "    </tr>\n",
       "    <tr>\n",
       "      <th>8</th>\n",
       "      <td>107.250000</td>\n",
       "      <td>52.627078</td>\n",
       "      <td>0.452688</td>\n",
       "      <td>0.170347</td>\n",
       "      <td>2.331940</td>\n",
       "      <td>14.486853</td>\n",
       "      <td>9.001004</td>\n",
       "      <td>107.972506</td>\n",
       "      <td>0</td>\n",
       "    </tr>\n",
       "    <tr>\n",
       "      <th>9</th>\n",
       "      <td>107.257812</td>\n",
       "      <td>39.496488</td>\n",
       "      <td>0.465882</td>\n",
       "      <td>1.162877</td>\n",
       "      <td>4.079431</td>\n",
       "      <td>24.980418</td>\n",
       "      <td>7.397080</td>\n",
       "      <td>57.784738</td>\n",
       "      <td>0</td>\n",
       "    </tr>\n",
       "    <tr>\n",
       "      <th>10</th>\n",
       "      <td>142.078125</td>\n",
       "      <td>45.288073</td>\n",
       "      <td>-0.320328</td>\n",
       "      <td>0.283953</td>\n",
       "      <td>5.376254</td>\n",
       "      <td>29.009897</td>\n",
       "      <td>6.076266</td>\n",
       "      <td>37.831393</td>\n",
       "      <td>0</td>\n",
       "    </tr>\n",
       "    <tr>\n",
       "      <th>11</th>\n",
       "      <td>133.257812</td>\n",
       "      <td>44.058244</td>\n",
       "      <td>-0.081060</td>\n",
       "      <td>0.115362</td>\n",
       "      <td>1.632107</td>\n",
       "      <td>12.007806</td>\n",
       "      <td>11.972067</td>\n",
       "      <td>195.543448</td>\n",
       "      <td>0</td>\n",
       "    </tr>\n",
       "    <tr>\n",
       "      <th>12</th>\n",
       "      <td>134.960938</td>\n",
       "      <td>49.554327</td>\n",
       "      <td>-0.135304</td>\n",
       "      <td>-0.080470</td>\n",
       "      <td>10.696488</td>\n",
       "      <td>41.342044</td>\n",
       "      <td>3.893934</td>\n",
       "      <td>14.131206</td>\n",
       "      <td>0</td>\n",
       "    </tr>\n",
       "    <tr>\n",
       "      <th>13</th>\n",
       "      <td>117.945312</td>\n",
       "      <td>45.506577</td>\n",
       "      <td>0.325438</td>\n",
       "      <td>0.661459</td>\n",
       "      <td>2.836120</td>\n",
       "      <td>23.118350</td>\n",
       "      <td>8.943212</td>\n",
       "      <td>82.475592</td>\n",
       "      <td>0</td>\n",
       "    </tr>\n",
       "    <tr>\n",
       "      <th>14</th>\n",
       "      <td>138.179688</td>\n",
       "      <td>51.524484</td>\n",
       "      <td>-0.031852</td>\n",
       "      <td>0.046797</td>\n",
       "      <td>6.330268</td>\n",
       "      <td>31.576347</td>\n",
       "      <td>5.155940</td>\n",
       "      <td>26.143310</td>\n",
       "      <td>0</td>\n",
       "    </tr>\n",
       "    <tr>\n",
       "      <th>15</th>\n",
       "      <td>114.367188</td>\n",
       "      <td>51.945716</td>\n",
       "      <td>-0.094499</td>\n",
       "      <td>-0.287984</td>\n",
       "      <td>2.738294</td>\n",
       "      <td>17.191891</td>\n",
       "      <td>9.050612</td>\n",
       "      <td>96.611903</td>\n",
       "      <td>0</td>\n",
       "    </tr>\n",
       "    <tr>\n",
       "      <th>16</th>\n",
       "      <td>109.640625</td>\n",
       "      <td>49.017652</td>\n",
       "      <td>0.137636</td>\n",
       "      <td>-0.256700</td>\n",
       "      <td>1.508361</td>\n",
       "      <td>12.072901</td>\n",
       "      <td>13.367926</td>\n",
       "      <td>223.438419</td>\n",
       "      <td>0</td>\n",
       "    </tr>\n",
       "    <tr>\n",
       "      <th>17</th>\n",
       "      <td>100.851562</td>\n",
       "      <td>51.743522</td>\n",
       "      <td>0.393837</td>\n",
       "      <td>-0.011241</td>\n",
       "      <td>2.841137</td>\n",
       "      <td>21.635778</td>\n",
       "      <td>8.302242</td>\n",
       "      <td>71.584369</td>\n",
       "      <td>0</td>\n",
       "    </tr>\n",
       "    <tr>\n",
       "      <th>18</th>\n",
       "      <td>136.093750</td>\n",
       "      <td>51.691005</td>\n",
       "      <td>-0.045909</td>\n",
       "      <td>-0.271816</td>\n",
       "      <td>9.342809</td>\n",
       "      <td>38.096400</td>\n",
       "      <td>4.345438</td>\n",
       "      <td>18.673649</td>\n",
       "      <td>0</td>\n",
       "    </tr>\n",
       "    <tr>\n",
       "      <th>19</th>\n",
       "      <td>99.367188</td>\n",
       "      <td>41.572202</td>\n",
       "      <td>1.547197</td>\n",
       "      <td>4.154106</td>\n",
       "      <td>27.555184</td>\n",
       "      <td>61.719016</td>\n",
       "      <td>2.208808</td>\n",
       "      <td>3.662680</td>\n",
       "      <td>1</td>\n",
       "    </tr>\n",
       "  </tbody>\n",
       "</table>\n",
       "</div>"
      ],
      "text/plain": [
       "    media del perfil integrado  desviacion estandar del perfil integrado  \\\n",
       "0                   140.562500                                 55.683782   \n",
       "1                   102.507812                                 58.882430   \n",
       "2                   103.015625                                 39.341649   \n",
       "3                   136.750000                                 57.178449   \n",
       "4                    88.726562                                 40.672225   \n",
       "5                    93.570312                                 46.698114   \n",
       "6                   119.484375                                 48.765059   \n",
       "7                   130.382812                                 39.844056   \n",
       "8                   107.250000                                 52.627078   \n",
       "9                   107.257812                                 39.496488   \n",
       "10                  142.078125                                 45.288073   \n",
       "11                  133.257812                                 44.058244   \n",
       "12                  134.960938                                 49.554327   \n",
       "13                  117.945312                                 45.506577   \n",
       "14                  138.179688                                 51.524484   \n",
       "15                  114.367188                                 51.945716   \n",
       "16                  109.640625                                 49.017652   \n",
       "17                  100.851562                                 51.743522   \n",
       "18                  136.093750                                 51.691005   \n",
       "19                   99.367188                                 41.572202   \n",
       "\n",
       "    exceso de curtosis del perfil integrado  sesgo del perfil integrado  \\\n",
       "0                                 -0.234571                   -0.699648   \n",
       "1                                  0.465318                   -0.515088   \n",
       "2                                  0.323328                    1.051164   \n",
       "3                                 -0.068415                   -0.636238   \n",
       "4                                  0.600866                    1.123492   \n",
       "5                                  0.531905                    0.416721   \n",
       "6                                  0.031460                   -0.112168   \n",
       "7                                 -0.158323                    0.389540   \n",
       "8                                  0.452688                    0.170347   \n",
       "9                                  0.465882                    1.162877   \n",
       "10                                -0.320328                    0.283953   \n",
       "11                                -0.081060                    0.115362   \n",
       "12                                -0.135304                   -0.080470   \n",
       "13                                 0.325438                    0.661459   \n",
       "14                                -0.031852                    0.046797   \n",
       "15                                -0.094499                   -0.287984   \n",
       "16                                 0.137636                   -0.256700   \n",
       "17                                 0.393837                   -0.011241   \n",
       "18                                -0.045909                   -0.271816   \n",
       "19                                 1.547197                    4.154106   \n",
       "\n",
       "    media de la curva DM-SNR  desviacion estandar de la curva DM-SNR  \\\n",
       "0                   3.199833                               19.110426   \n",
       "1                   1.677258                               14.860146   \n",
       "2                   3.121237                               21.744669   \n",
       "3                   3.642977                               20.959280   \n",
       "4                   1.178930                               11.468720   \n",
       "5                   1.636288                               14.545074   \n",
       "6                   0.999164                                9.279612   \n",
       "7                   1.220736                               14.378941   \n",
       "8                   2.331940                               14.486853   \n",
       "9                   4.079431                               24.980418   \n",
       "10                  5.376254                               29.009897   \n",
       "11                  1.632107                               12.007806   \n",
       "12                 10.696488                               41.342044   \n",
       "13                  2.836120                               23.118350   \n",
       "14                  6.330268                               31.576347   \n",
       "15                  2.738294                               17.191891   \n",
       "16                  1.508361                               12.072901   \n",
       "17                  2.841137                               21.635778   \n",
       "18                  9.342809                               38.096400   \n",
       "19                 27.555184                               61.719016   \n",
       "\n",
       "    exceso de curtosis de la curva DM-SNR  sesgo de la curva DM-SNR  \\\n",
       "0                                7.975532                 74.242225   \n",
       "1                               10.576487                127.393580   \n",
       "2                                7.735822                 63.171909   \n",
       "3                                6.896499                 53.593661   \n",
       "4                               14.269573                252.567306   \n",
       "5                               10.621748                131.394004   \n",
       "6                               19.206230                479.756567   \n",
       "7                               13.539456                198.236457   \n",
       "8                                9.001004                107.972506   \n",
       "9                                7.397080                 57.784738   \n",
       "10                               6.076266                 37.831393   \n",
       "11                              11.972067                195.543448   \n",
       "12                               3.893934                 14.131206   \n",
       "13                               8.943212                 82.475592   \n",
       "14                               5.155940                 26.143310   \n",
       "15                               9.050612                 96.611903   \n",
       "16                              13.367926                223.438419   \n",
       "17                               8.302242                 71.584369   \n",
       "18                               4.345438                 18.673649   \n",
       "19                               2.208808                  3.662680   \n",
       "\n",
       "    target_class  \n",
       "0              0  \n",
       "1              0  \n",
       "2              0  \n",
       "3              0  \n",
       "4              0  \n",
       "5              0  \n",
       "6              0  \n",
       "7              0  \n",
       "8              0  \n",
       "9              0  \n",
       "10             0  \n",
       "11             0  \n",
       "12             0  \n",
       "13             0  \n",
       "14             0  \n",
       "15             0  \n",
       "16             0  \n",
       "17             0  \n",
       "18             0  \n",
       "19             1  "
      ]
     },
     "execution_count": 24,
     "metadata": {},
     "output_type": "execute_result"
    }
   ],
   "source": [
    "data.head(20)"
   ]
  },
  {
   "cell_type": "code",
   "execution_count": 25,
   "metadata": {},
   "outputs": [
    {
     "data": {
      "text/html": [
       "<div>\n",
       "<style scoped>\n",
       "    .dataframe tbody tr th:only-of-type {\n",
       "        vertical-align: middle;\n",
       "    }\n",
       "\n",
       "    .dataframe tbody tr th {\n",
       "        vertical-align: top;\n",
       "    }\n",
       "\n",
       "    .dataframe thead th {\n",
       "        text-align: right;\n",
       "    }\n",
       "</style>\n",
       "<table border=\"1\" class=\"dataframe\">\n",
       "  <thead>\n",
       "    <tr style=\"text-align: right;\">\n",
       "      <th></th>\n",
       "      <th>media del perfil integrado</th>\n",
       "      <th>desviacion estandar del perfil integrado</th>\n",
       "      <th>exceso de curtosis del perfil integrado</th>\n",
       "      <th>sesgo del perfil integrado</th>\n",
       "      <th>media de la curva DM-SNR</th>\n",
       "      <th>desviacion estandar de la curva DM-SNR</th>\n",
       "      <th>exceso de curtosis de la curva DM-SNR</th>\n",
       "      <th>sesgo de la curva DM-SNR</th>\n",
       "      <th>target_class</th>\n",
       "    </tr>\n",
       "  </thead>\n",
       "  <tbody>\n",
       "    <tr>\n",
       "      <th>count</th>\n",
       "      <td>17898.000000</td>\n",
       "      <td>17898.000000</td>\n",
       "      <td>17898.000000</td>\n",
       "      <td>17898.000000</td>\n",
       "      <td>17898.000000</td>\n",
       "      <td>17898.000000</td>\n",
       "      <td>17898.000000</td>\n",
       "      <td>17898.000000</td>\n",
       "      <td>17898.000000</td>\n",
       "    </tr>\n",
       "    <tr>\n",
       "      <th>mean</th>\n",
       "      <td>111.079968</td>\n",
       "      <td>46.549532</td>\n",
       "      <td>0.477857</td>\n",
       "      <td>1.770279</td>\n",
       "      <td>12.614400</td>\n",
       "      <td>26.326515</td>\n",
       "      <td>8.303556</td>\n",
       "      <td>104.857709</td>\n",
       "      <td>0.091574</td>\n",
       "    </tr>\n",
       "    <tr>\n",
       "      <th>std</th>\n",
       "      <td>25.652935</td>\n",
       "      <td>6.843189</td>\n",
       "      <td>1.064040</td>\n",
       "      <td>6.167913</td>\n",
       "      <td>29.472897</td>\n",
       "      <td>19.470572</td>\n",
       "      <td>4.506092</td>\n",
       "      <td>106.514540</td>\n",
       "      <td>0.288432</td>\n",
       "    </tr>\n",
       "    <tr>\n",
       "      <th>min</th>\n",
       "      <td>5.812500</td>\n",
       "      <td>24.772042</td>\n",
       "      <td>-1.876011</td>\n",
       "      <td>-1.791886</td>\n",
       "      <td>0.213211</td>\n",
       "      <td>7.370432</td>\n",
       "      <td>-3.139270</td>\n",
       "      <td>-1.976976</td>\n",
       "      <td>0.000000</td>\n",
       "    </tr>\n",
       "    <tr>\n",
       "      <th>25%</th>\n",
       "      <td>100.929688</td>\n",
       "      <td>42.376018</td>\n",
       "      <td>0.027098</td>\n",
       "      <td>-0.188572</td>\n",
       "      <td>1.923077</td>\n",
       "      <td>14.437332</td>\n",
       "      <td>5.781506</td>\n",
       "      <td>34.960504</td>\n",
       "      <td>0.000000</td>\n",
       "    </tr>\n",
       "    <tr>\n",
       "      <th>50%</th>\n",
       "      <td>115.078125</td>\n",
       "      <td>46.947479</td>\n",
       "      <td>0.223240</td>\n",
       "      <td>0.198710</td>\n",
       "      <td>2.801839</td>\n",
       "      <td>18.461316</td>\n",
       "      <td>8.433515</td>\n",
       "      <td>83.064556</td>\n",
       "      <td>0.000000</td>\n",
       "    </tr>\n",
       "    <tr>\n",
       "      <th>75%</th>\n",
       "      <td>127.085938</td>\n",
       "      <td>51.023202</td>\n",
       "      <td>0.473325</td>\n",
       "      <td>0.927783</td>\n",
       "      <td>5.464256</td>\n",
       "      <td>28.428104</td>\n",
       "      <td>10.702959</td>\n",
       "      <td>139.309331</td>\n",
       "      <td>0.000000</td>\n",
       "    </tr>\n",
       "    <tr>\n",
       "      <th>max</th>\n",
       "      <td>192.617188</td>\n",
       "      <td>98.778911</td>\n",
       "      <td>8.069522</td>\n",
       "      <td>68.101622</td>\n",
       "      <td>223.392140</td>\n",
       "      <td>110.642211</td>\n",
       "      <td>34.539844</td>\n",
       "      <td>1191.000837</td>\n",
       "      <td>1.000000</td>\n",
       "    </tr>\n",
       "  </tbody>\n",
       "</table>\n",
       "</div>"
      ],
      "text/plain": [
       "       media del perfil integrado  desviacion estandar del perfil integrado  \\\n",
       "count                17898.000000                              17898.000000   \n",
       "mean                   111.079968                                 46.549532   \n",
       "std                     25.652935                                  6.843189   \n",
       "min                      5.812500                                 24.772042   \n",
       "25%                    100.929688                                 42.376018   \n",
       "50%                    115.078125                                 46.947479   \n",
       "75%                    127.085938                                 51.023202   \n",
       "max                    192.617188                                 98.778911   \n",
       "\n",
       "       exceso de curtosis del perfil integrado  sesgo del perfil integrado  \\\n",
       "count                             17898.000000                17898.000000   \n",
       "mean                                  0.477857                    1.770279   \n",
       "std                                   1.064040                    6.167913   \n",
       "min                                  -1.876011                   -1.791886   \n",
       "25%                                   0.027098                   -0.188572   \n",
       "50%                                   0.223240                    0.198710   \n",
       "75%                                   0.473325                    0.927783   \n",
       "max                                   8.069522                   68.101622   \n",
       "\n",
       "       media de la curva DM-SNR  desviacion estandar de la curva DM-SNR  \\\n",
       "count              17898.000000                            17898.000000   \n",
       "mean                  12.614400                               26.326515   \n",
       "std                   29.472897                               19.470572   \n",
       "min                    0.213211                                7.370432   \n",
       "25%                    1.923077                               14.437332   \n",
       "50%                    2.801839                               18.461316   \n",
       "75%                    5.464256                               28.428104   \n",
       "max                  223.392140                              110.642211   \n",
       "\n",
       "       exceso de curtosis de la curva DM-SNR  sesgo de la curva DM-SNR  \\\n",
       "count                           17898.000000              17898.000000   \n",
       "mean                                8.303556                104.857709   \n",
       "std                                 4.506092                106.514540   \n",
       "min                                -3.139270                 -1.976976   \n",
       "25%                                 5.781506                 34.960504   \n",
       "50%                                 8.433515                 83.064556   \n",
       "75%                                10.702959                139.309331   \n",
       "max                                34.539844               1191.000837   \n",
       "\n",
       "       target_class  \n",
       "count  17898.000000  \n",
       "mean       0.091574  \n",
       "std        0.288432  \n",
       "min        0.000000  \n",
       "25%        0.000000  \n",
       "50%        0.000000  \n",
       "75%        0.000000  \n",
       "max        1.000000  "
      ]
     },
     "execution_count": 25,
     "metadata": {},
     "output_type": "execute_result"
    }
   ],
   "source": [
    "data.describe()"
   ]
  },
  {
   "cell_type": "code",
   "execution_count": 26,
   "metadata": {},
   "outputs": [],
   "source": [
    "data1 = data[data['target_class']==1]"
   ]
  },
  {
   "cell_type": "code",
   "execution_count": 27,
   "metadata": {},
   "outputs": [
    {
     "data": {
      "text/html": [
       "<div>\n",
       "<style scoped>\n",
       "    .dataframe tbody tr th:only-of-type {\n",
       "        vertical-align: middle;\n",
       "    }\n",
       "\n",
       "    .dataframe tbody tr th {\n",
       "        vertical-align: top;\n",
       "    }\n",
       "\n",
       "    .dataframe thead th {\n",
       "        text-align: right;\n",
       "    }\n",
       "</style>\n",
       "<table border=\"1\" class=\"dataframe\">\n",
       "  <thead>\n",
       "    <tr style=\"text-align: right;\">\n",
       "      <th></th>\n",
       "      <th>media del perfil integrado</th>\n",
       "      <th>desviacion estandar del perfil integrado</th>\n",
       "      <th>exceso de curtosis del perfil integrado</th>\n",
       "      <th>sesgo del perfil integrado</th>\n",
       "      <th>media de la curva DM-SNR</th>\n",
       "      <th>desviacion estandar de la curva DM-SNR</th>\n",
       "      <th>exceso de curtosis de la curva DM-SNR</th>\n",
       "      <th>sesgo de la curva DM-SNR</th>\n",
       "      <th>target_class</th>\n",
       "    </tr>\n",
       "  </thead>\n",
       "  <tbody>\n",
       "    <tr>\n",
       "      <th>19</th>\n",
       "      <td>99.367188</td>\n",
       "      <td>41.572202</td>\n",
       "      <td>1.547197</td>\n",
       "      <td>4.154106</td>\n",
       "      <td>27.555184</td>\n",
       "      <td>61.719016</td>\n",
       "      <td>2.208808</td>\n",
       "      <td>3.662680</td>\n",
       "      <td>1</td>\n",
       "    </tr>\n",
       "    <tr>\n",
       "      <th>42</th>\n",
       "      <td>120.554688</td>\n",
       "      <td>45.549905</td>\n",
       "      <td>0.282924</td>\n",
       "      <td>0.419909</td>\n",
       "      <td>1.358696</td>\n",
       "      <td>13.079034</td>\n",
       "      <td>13.312141</td>\n",
       "      <td>212.597029</td>\n",
       "      <td>1</td>\n",
       "    </tr>\n",
       "    <tr>\n",
       "      <th>61</th>\n",
       "      <td>27.765625</td>\n",
       "      <td>28.666042</td>\n",
       "      <td>5.770087</td>\n",
       "      <td>37.419009</td>\n",
       "      <td>73.112876</td>\n",
       "      <td>62.070220</td>\n",
       "      <td>1.268206</td>\n",
       "      <td>1.082920</td>\n",
       "      <td>1</td>\n",
       "    </tr>\n",
       "    <tr>\n",
       "      <th>92</th>\n",
       "      <td>23.625000</td>\n",
       "      <td>29.948654</td>\n",
       "      <td>5.688038</td>\n",
       "      <td>35.987172</td>\n",
       "      <td>146.568562</td>\n",
       "      <td>82.394624</td>\n",
       "      <td>-0.274902</td>\n",
       "      <td>-1.121848</td>\n",
       "      <td>1</td>\n",
       "    </tr>\n",
       "    <tr>\n",
       "      <th>93</th>\n",
       "      <td>94.585938</td>\n",
       "      <td>35.779823</td>\n",
       "      <td>1.187309</td>\n",
       "      <td>3.687469</td>\n",
       "      <td>6.071070</td>\n",
       "      <td>29.760400</td>\n",
       "      <td>5.318767</td>\n",
       "      <td>28.698048</td>\n",
       "      <td>1</td>\n",
       "    </tr>\n",
       "    <tr>\n",
       "      <th>100</th>\n",
       "      <td>123.468750</td>\n",
       "      <td>45.475085</td>\n",
       "      <td>0.345781</td>\n",
       "      <td>0.647415</td>\n",
       "      <td>32.919732</td>\n",
       "      <td>65.094197</td>\n",
       "      <td>1.605538</td>\n",
       "      <td>0.871364</td>\n",
       "      <td>1</td>\n",
       "    </tr>\n",
       "    <tr>\n",
       "      <th>110</th>\n",
       "      <td>35.156250</td>\n",
       "      <td>30.237714</td>\n",
       "      <td>4.203475</td>\n",
       "      <td>24.486691</td>\n",
       "      <td>34.101171</td>\n",
       "      <td>62.577395</td>\n",
       "      <td>1.890020</td>\n",
       "      <td>2.572133</td>\n",
       "      <td>1</td>\n",
       "    </tr>\n",
       "    <tr>\n",
       "      <th>132</th>\n",
       "      <td>18.117188</td>\n",
       "      <td>29.297670</td>\n",
       "      <td>6.446706</td>\n",
       "      <td>44.601588</td>\n",
       "      <td>50.107860</td>\n",
       "      <td>66.321825</td>\n",
       "      <td>1.456423</td>\n",
       "      <td>1.335182</td>\n",
       "      <td>1</td>\n",
       "    </tr>\n",
       "    <tr>\n",
       "      <th>145</th>\n",
       "      <td>44.867188</td>\n",
       "      <td>45.693334</td>\n",
       "      <td>2.888739</td>\n",
       "      <td>8.810673</td>\n",
       "      <td>176.119565</td>\n",
       "      <td>59.737720</td>\n",
       "      <td>-1.785377</td>\n",
       "      <td>2.940913</td>\n",
       "      <td>1</td>\n",
       "    </tr>\n",
       "    <tr>\n",
       "      <th>146</th>\n",
       "      <td>26.921875</td>\n",
       "      <td>34.511006</td>\n",
       "      <td>4.709838</td>\n",
       "      <td>24.247400</td>\n",
       "      <td>183.622910</td>\n",
       "      <td>79.932815</td>\n",
       "      <td>-1.326647</td>\n",
       "      <td>0.346712</td>\n",
       "      <td>1</td>\n",
       "    </tr>\n",
       "    <tr>\n",
       "      <th>178</th>\n",
       "      <td>48.242188</td>\n",
       "      <td>36.492025</td>\n",
       "      <td>2.935560</td>\n",
       "      <td>10.888746</td>\n",
       "      <td>41.504181</td>\n",
       "      <td>62.897811</td>\n",
       "      <td>1.472489</td>\n",
       "      <td>1.305269</td>\n",
       "      <td>1</td>\n",
       "    </tr>\n",
       "    <tr>\n",
       "      <th>204</th>\n",
       "      <td>110.195312</td>\n",
       "      <td>54.475490</td>\n",
       "      <td>0.489785</td>\n",
       "      <td>-0.031921</td>\n",
       "      <td>19.280100</td>\n",
       "      <td>56.002144</td>\n",
       "      <td>2.875491</td>\n",
       "      <td>6.861892</td>\n",
       "      <td>1</td>\n",
       "    </tr>\n",
       "    <tr>\n",
       "      <th>227</th>\n",
       "      <td>11.820312</td>\n",
       "      <td>37.258270</td>\n",
       "      <td>5.340502</td>\n",
       "      <td>28.655975</td>\n",
       "      <td>146.725752</td>\n",
       "      <td>75.399449</td>\n",
       "      <td>-0.290785</td>\n",
       "      <td>-1.219307</td>\n",
       "      <td>1</td>\n",
       "    </tr>\n",
       "    <tr>\n",
       "      <th>238</th>\n",
       "      <td>59.429688</td>\n",
       "      <td>45.392504</td>\n",
       "      <td>2.175947</td>\n",
       "      <td>5.660025</td>\n",
       "      <td>16.459030</td>\n",
       "      <td>47.319477</td>\n",
       "      <td>3.084529</td>\n",
       "      <td>8.940259</td>\n",
       "      <td>1</td>\n",
       "    </tr>\n",
       "    <tr>\n",
       "      <th>254</th>\n",
       "      <td>88.437500</td>\n",
       "      <td>37.811777</td>\n",
       "      <td>0.689216</td>\n",
       "      <td>2.035294</td>\n",
       "      <td>2.415552</td>\n",
       "      <td>18.027953</td>\n",
       "      <td>8.828613</td>\n",
       "      <td>86.799894</td>\n",
       "      <td>1</td>\n",
       "    </tr>\n",
       "    <tr>\n",
       "      <th>278</th>\n",
       "      <td>99.289062</td>\n",
       "      <td>47.391348</td>\n",
       "      <td>0.702001</td>\n",
       "      <td>1.042190</td>\n",
       "      <td>1.627090</td>\n",
       "      <td>14.680080</td>\n",
       "      <td>10.991412</td>\n",
       "      <td>139.550900</td>\n",
       "      <td>1</td>\n",
       "    </tr>\n",
       "    <tr>\n",
       "      <th>283</th>\n",
       "      <td>20.351562</td>\n",
       "      <td>25.771711</td>\n",
       "      <td>7.024645</td>\n",
       "      <td>56.112972</td>\n",
       "      <td>70.512542</td>\n",
       "      <td>65.472305</td>\n",
       "      <td>1.102050</td>\n",
       "      <td>0.782056</td>\n",
       "      <td>1</td>\n",
       "    </tr>\n",
       "    <tr>\n",
       "      <th>303</th>\n",
       "      <td>105.500000</td>\n",
       "      <td>41.841778</td>\n",
       "      <td>0.417149</td>\n",
       "      <td>0.860093</td>\n",
       "      <td>2.082776</td>\n",
       "      <td>19.141674</td>\n",
       "      <td>10.146733</td>\n",
       "      <td>107.621655</td>\n",
       "      <td>1</td>\n",
       "    </tr>\n",
       "    <tr>\n",
       "      <th>336</th>\n",
       "      <td>76.523438</td>\n",
       "      <td>34.087196</td>\n",
       "      <td>2.024270</td>\n",
       "      <td>8.131775</td>\n",
       "      <td>7.983278</td>\n",
       "      <td>36.657363</td>\n",
       "      <td>4.888890</td>\n",
       "      <td>23.675354</td>\n",
       "      <td>1</td>\n",
       "    </tr>\n",
       "    <tr>\n",
       "      <th>337</th>\n",
       "      <td>67.664062</td>\n",
       "      <td>32.561787</td>\n",
       "      <td>2.028000</td>\n",
       "      <td>8.098344</td>\n",
       "      <td>8.266722</td>\n",
       "      <td>34.838902</td>\n",
       "      <td>4.793382</td>\n",
       "      <td>24.032048</td>\n",
       "      <td>1</td>\n",
       "    </tr>\n",
       "  </tbody>\n",
       "</table>\n",
       "</div>"
      ],
      "text/plain": [
       "     media del perfil integrado  desviacion estandar del perfil integrado  \\\n",
       "19                    99.367188                                 41.572202   \n",
       "42                   120.554688                                 45.549905   \n",
       "61                    27.765625                                 28.666042   \n",
       "92                    23.625000                                 29.948654   \n",
       "93                    94.585938                                 35.779823   \n",
       "100                  123.468750                                 45.475085   \n",
       "110                   35.156250                                 30.237714   \n",
       "132                   18.117188                                 29.297670   \n",
       "145                   44.867188                                 45.693334   \n",
       "146                   26.921875                                 34.511006   \n",
       "178                   48.242188                                 36.492025   \n",
       "204                  110.195312                                 54.475490   \n",
       "227                   11.820312                                 37.258270   \n",
       "238                   59.429688                                 45.392504   \n",
       "254                   88.437500                                 37.811777   \n",
       "278                   99.289062                                 47.391348   \n",
       "283                   20.351562                                 25.771711   \n",
       "303                  105.500000                                 41.841778   \n",
       "336                   76.523438                                 34.087196   \n",
       "337                   67.664062                                 32.561787   \n",
       "\n",
       "     exceso de curtosis del perfil integrado  sesgo del perfil integrado  \\\n",
       "19                                  1.547197                    4.154106   \n",
       "42                                  0.282924                    0.419909   \n",
       "61                                  5.770087                   37.419009   \n",
       "92                                  5.688038                   35.987172   \n",
       "93                                  1.187309                    3.687469   \n",
       "100                                 0.345781                    0.647415   \n",
       "110                                 4.203475                   24.486691   \n",
       "132                                 6.446706                   44.601588   \n",
       "145                                 2.888739                    8.810673   \n",
       "146                                 4.709838                   24.247400   \n",
       "178                                 2.935560                   10.888746   \n",
       "204                                 0.489785                   -0.031921   \n",
       "227                                 5.340502                   28.655975   \n",
       "238                                 2.175947                    5.660025   \n",
       "254                                 0.689216                    2.035294   \n",
       "278                                 0.702001                    1.042190   \n",
       "283                                 7.024645                   56.112972   \n",
       "303                                 0.417149                    0.860093   \n",
       "336                                 2.024270                    8.131775   \n",
       "337                                 2.028000                    8.098344   \n",
       "\n",
       "     media de la curva DM-SNR  desviacion estandar de la curva DM-SNR  \\\n",
       "19                  27.555184                               61.719016   \n",
       "42                   1.358696                               13.079034   \n",
       "61                  73.112876                               62.070220   \n",
       "92                 146.568562                               82.394624   \n",
       "93                   6.071070                               29.760400   \n",
       "100                 32.919732                               65.094197   \n",
       "110                 34.101171                               62.577395   \n",
       "132                 50.107860                               66.321825   \n",
       "145                176.119565                               59.737720   \n",
       "146                183.622910                               79.932815   \n",
       "178                 41.504181                               62.897811   \n",
       "204                 19.280100                               56.002144   \n",
       "227                146.725752                               75.399449   \n",
       "238                 16.459030                               47.319477   \n",
       "254                  2.415552                               18.027953   \n",
       "278                  1.627090                               14.680080   \n",
       "283                 70.512542                               65.472305   \n",
       "303                  2.082776                               19.141674   \n",
       "336                  7.983278                               36.657363   \n",
       "337                  8.266722                               34.838902   \n",
       "\n",
       "     exceso de curtosis de la curva DM-SNR  sesgo de la curva DM-SNR  \\\n",
       "19                                2.208808                  3.662680   \n",
       "42                               13.312141                212.597029   \n",
       "61                                1.268206                  1.082920   \n",
       "92                               -0.274902                 -1.121848   \n",
       "93                                5.318767                 28.698048   \n",
       "100                               1.605538                  0.871364   \n",
       "110                               1.890020                  2.572133   \n",
       "132                               1.456423                  1.335182   \n",
       "145                              -1.785377                  2.940913   \n",
       "146                              -1.326647                  0.346712   \n",
       "178                               1.472489                  1.305269   \n",
       "204                               2.875491                  6.861892   \n",
       "227                              -0.290785                 -1.219307   \n",
       "238                               3.084529                  8.940259   \n",
       "254                               8.828613                 86.799894   \n",
       "278                              10.991412                139.550900   \n",
       "283                               1.102050                  0.782056   \n",
       "303                              10.146733                107.621655   \n",
       "336                               4.888890                 23.675354   \n",
       "337                               4.793382                 24.032048   \n",
       "\n",
       "     target_class  \n",
       "19              1  \n",
       "42              1  \n",
       "61              1  \n",
       "92              1  \n",
       "93              1  \n",
       "100             1  \n",
       "110             1  \n",
       "132             1  \n",
       "145             1  \n",
       "146             1  \n",
       "178             1  \n",
       "204             1  \n",
       "227             1  \n",
       "238             1  \n",
       "254             1  \n",
       "278             1  \n",
       "283             1  \n",
       "303             1  \n",
       "336             1  \n",
       "337             1  "
      ]
     },
     "execution_count": 27,
     "metadata": {},
     "output_type": "execute_result"
    }
   ],
   "source": [
    "data1.head(20)"
   ]
  },
  {
   "cell_type": "code",
   "execution_count": 28,
   "metadata": {},
   "outputs": [],
   "source": [
    "data.columns = [col.strip() for col in data.columns]"
   ]
  },
  {
   "cell_type": "code",
   "execution_count": 29,
   "metadata": {},
   "outputs": [
    {
     "data": {
      "text/plain": [
       "Index(['media del perfil integrado',\n",
       "       'desviacion estandar del perfil integrado',\n",
       "       'exceso de curtosis del perfil integrado', 'sesgo del perfil integrado',\n",
       "       'media de la curva DM-SNR', 'desviacion estandar de la curva DM-SNR',\n",
       "       'exceso de curtosis de la curva DM-SNR', 'sesgo de la curva DM-SNR',\n",
       "       'target_class'],\n",
       "      dtype='object')"
      ]
     },
     "execution_count": 29,
     "metadata": {},
     "output_type": "execute_result"
    }
   ],
   "source": [
    "data.columns"
   ]
  },
  {
   "cell_type": "code",
   "execution_count": 30,
   "metadata": {},
   "outputs": [
    {
     "data": {
      "text/plain": [
       "<matplotlib.axes._subplots.AxesSubplot at 0x1ed42128c18>"
      ]
     },
     "execution_count": 30,
     "metadata": {},
     "output_type": "execute_result"
    },
    {
     "data": {
      "image/png": "[encoded data removed]",
      "text/plain": [
       "<Figure size 576x576 with 1 Axes>"
      ]
     },
     "metadata": {},
     "output_type": "display_data"
    }
   ],
   "source": [
    "data.target_class.value_counts().plot.pie(autopct='%1.0f%%', figsize=(8,8))"
   ]
  },
  {
   "cell_type": "code",
   "execution_count": 31,
   "metadata": {},
   "outputs": [
    {
     "data": {
      "text/plain": [
       "<matplotlib.axes._subplots.AxesSubplot at 0x1ed42156f28>"
      ]
     },
     "execution_count": 31,
     "metadata": {},
     "output_type": "execute_result"
    },
    {
     "data": {
      "image/png": "[encoded data removed]",
      "text/plain": [
       "<Figure size 432x288 with 1 Axes>"
      ]
     },
     "metadata": {
      "needs_background": "light"
     },
     "output_type": "display_data"
    }
   ],
   "source": [
    "data.target_class.value_counts().plot.bar()"
   ]
  },
  {
   "cell_type": "code",
   "execution_count": 33,
   "metadata": {},
   "outputs": [
    {
     "data": {
      "text/plain": [
       "<matplotlib.axes._subplots.AxesSubplot at 0x1ed4386acc0>"
      ]
     },
     "execution_count": 33,
     "metadata": {},
     "output_type": "execute_result"
    },
    {
     "data": {
      "image/png": "[encoded data removed]",
      "text/plain": [
       "<Figure size 432x288 with 1 Axes>"
      ]
     },
     "metadata": {
      "needs_background": "light"
     },
     "output_type": "display_data"
    },
    {
     "data": {
      "image/png": "[encoded data removed]",
      "text/plain": [
       "<Figure size 432x288 with 1 Axes>"
      ]
     },
     "metadata": {
      "needs_background": "light"
     },
     "output_type": "display_data"
    }
   ],
   "source": [
    "k = int(np.ceil(1 + np.log2(17898)))\n",
    "colors = ['red', 'blue', 'green', 'black', 'yellow', 'cyan', 'magenta', 'orange']\n",
    "plt.hist(data['media del perfil integrado'], bins=k, color=colors[0])\n",
    "plt.hist(data['target_class'], bins=k, color=colors[0])\n",
    "data.plot(kind=\"scatter\", x='media del perfil integrado', y=\"target_class\")"
   ]
  },
  {
   "cell_type": "code",
   "execution_count": 12,
   "metadata": {},
   "outputs": [
    {
     "data": {
      "text/plain": [
       "<matplotlib.axes._subplots.AxesSubplot at 0x1ed41b97dd8>"
      ]
     },
     "execution_count": 12,
     "metadata": {},
     "output_type": "execute_result"
    },
    {
     "data": {
      "image/png": "[encoded data removed]",
      "text/plain": [
       "<Figure size 432x288 with 1 Axes>"
      ]
     },
     "metadata": {
      "needs_background": "light"
     },
     "output_type": "display_data"
    },
    {
     "data": {
      "image/png": "[encoded data removed]",
      "text/plain": [
       "<Figure size 432x288 with 1 Axes>"
      ]
     },
     "metadata": {
      "needs_background": "light"
     },
     "output_type": "display_data"
    }
   ],
   "source": [
    "plt.hist(data['Standard deviation of the integrated profile'], bins=k, color=colors[1])\n",
    "plt.hist(data['target_class'], bins=k, color=colors[0])\n",
    "data.plot(kind=\"scatter\", x='Standard deviation of the integrated profile', y=\"target_class\")"
   ]
  },
  {
   "cell_type": "code",
   "execution_count": 13,
   "metadata": {},
   "outputs": [
    {
     "data": {
      "text/plain": [
       "<matplotlib.axes._subplots.AxesSubplot at 0x1ed41ca7588>"
      ]
     },
     "execution_count": 13,
     "metadata": {},
     "output_type": "execute_result"
    },
    {
     "data": {
      "image/png": "[encoded data removed]",
      "text/plain": [
       "<Figure size 432x288 with 1 Axes>"
      ]
     },
     "metadata": {
      "needs_background": "light"
     },
     "output_type": "display_data"
    },
    {
     "data": {
      "image/png": "[encoded data removed]",
      "text/plain": [
       "<Figure size 432x288 with 1 Axes>"
      ]
     },
     "metadata": {
      "needs_background": "light"
     },
     "output_type": "display_data"
    }
   ],
   "source": [
    "plt.hist(data['Excess kurtosis of the integrated profile'], bins=k, color=colors[2])\n",
    "plt.hist(data['target_class'], bins=k, color=colors[0])\n",
    "data.plot(kind=\"scatter\", x=\"Excess kurtosis of the integrated profile\", y=\"target_class\")"
   ]
  },
  {
   "cell_type": "code",
   "execution_count": 14,
   "metadata": {},
   "outputs": [
    {
     "data": {
      "text/plain": [
       "<matplotlib.axes._subplots.AxesSubplot at 0x1ed41db70b8>"
      ]
     },
     "execution_count": 14,
     "metadata": {},
     "output_type": "execute_result"
    },
    {
     "data": {
      "image/png": "[encoded data removed]",
      "text/plain": [
       "<Figure size 432x288 with 1 Axes>"
      ]
     },
     "metadata": {
      "needs_background": "light"
     },
     "output_type": "display_data"
    },
    {
     "data": {
      "image/png": "[encoded data removed]",
      "text/plain": [
       "<Figure size 432x288 with 1 Axes>"
      ]
     },
     "metadata": {
      "needs_background": "light"
     },
     "output_type": "display_data"
    }
   ],
   "source": [
    "plt.hist(data['Skewness of the integrated profile'], bins=k, color=colors[3])\n",
    "plt.hist(data['target_class'], bins=k, color=colors[0])\n",
    "data.plot(kind=\"scatter\", x=\"Skewness of the integrated profile\", y=\"target_class\")"
   ]
  },
  {
   "cell_type": "code",
   "execution_count": 15,
   "metadata": {},
   "outputs": [
    {
     "data": {
      "text/plain": [
       "<matplotlib.axes._subplots.AxesSubplot at 0x1ed41eca0f0>"
      ]
     },
     "execution_count": 15,
     "metadata": {},
     "output_type": "execute_result"
    },
    {
     "data": {
      "image/png": "[encoded data removed]",
      "text/plain": [
       "<Figure size 432x288 with 1 Axes>"
      ]
     },
     "metadata": {
      "needs_background": "light"
     },
     "output_type": "display_data"
    },
    {
     "data": {
      "image/png": "[encoded data removed]",
      "text/plain": [
       "<Figure size 432x288 with 1 Axes>"
      ]
     },
     "metadata": {
      "needs_background": "light"
     },
     "output_type": "display_data"
    }
   ],
   "source": [
    "plt.hist(data['Mean of the DM-SNR curve'], bins=k, color=colors[4])\n",
    "plt.hist(data['target_class'], bins=k, color=colors[0])\n",
    "data.plot(kind=\"scatter\", x=\"Mean of the DM-SNR curve\", y=\"target_class\")"
   ]
  },
  {
   "cell_type": "code",
   "execution_count": 16,
   "metadata": {},
   "outputs": [
    {
     "data": {
      "text/plain": [
       "<matplotlib.axes._subplots.AxesSubplot at 0x1ed41e29cc0>"
      ]
     },
     "execution_count": 16,
     "metadata": {},
     "output_type": "execute_result"
    },
    {
     "data": {
      "image/png": "[encoded data removed]",
      "text/plain": [
       "<Figure size 432x288 with 1 Axes>"
      ]
     },
     "metadata": {
      "needs_background": "light"
     },
     "output_type": "display_data"
    },
    {
     "data": {
      "image/png": "[encoded data removed]",
      "text/plain": [
       "<Figure size 432x288 with 1 Axes>"
      ]
     },
     "metadata": {
      "needs_background": "light"
     },
     "output_type": "display_data"
    }
   ],
   "source": [
    "plt.hist(data['Standard deviation of the DM-SNR curve'], bins=k, color=colors[5])\n",
    "plt.hist(data['target_class'], bins=k, color=colors[0])\n",
    "data.plot(kind=\"scatter\", x=\"Standard deviation of the DM-SNR curve\", y=\"target_class\")"
   ]
  },
  {
   "cell_type": "code",
   "execution_count": 17,
   "metadata": {},
   "outputs": [
    {
     "data": {
      "text/plain": [
       "<matplotlib.axes._subplots.AxesSubplot at 0x1ed40a65898>"
      ]
     },
     "execution_count": 17,
     "metadata": {},
     "output_type": "execute_result"
    },
    {
     "data": {
      "image/png": "[encoded data removed]",
      "text/plain": [
       "<Figure size 432x288 with 1 Axes>"
      ]
     },
     "metadata": {
      "needs_background": "light"
     },
     "output_type": "display_data"
    },
    {
     "data": {
      "image/png": "[encoded data removed]",
      "text/plain": [
       "<Figure size 432x288 with 1 Axes>"
      ]
     },
     "metadata": {
      "needs_background": "light"
     },
     "output_type": "display_data"
    }
   ],
   "source": [
    "plt.hist(data['Excess kurtosis of the DM-SNR curve'], bins=k, color=colors[6])\n",
    "plt.hist(data['target_class'], bins=k, color=colors[0])\n",
    "data.plot(kind=\"scatter\", x=\"Excess kurtosis of the DM-SNR curve\", y=\"target_class\")"
   ]
  },
  {
   "cell_type": "code",
   "execution_count": 18,
   "metadata": {},
   "outputs": [
    {
     "data": {
      "text/plain": [
       "<matplotlib.axes._subplots.AxesSubplot at 0x1ed40a352e8>"
      ]
     },
     "execution_count": 18,
     "metadata": {},
     "output_type": "execute_result"
    },
    {
     "data": {
      "image/png": "[encoded data removed]",
      "text/plain": [
       "<Figure size 432x288 with 1 Axes>"
      ]
     },
     "metadata": {
      "needs_background": "light"
     },
     "output_type": "display_data"
    },
    {
     "data": {
      "image/png": "[encoded data removed]",
      "text/plain": [
       "<Figure size 432x288 with 1 Axes>"
      ]
     },
     "metadata": {
      "needs_background": "light"
     },
     "output_type": "display_data"
    }
   ],
   "source": [
    "plt.hist(data['Skewness of the DM-SNR curve'], bins=k, color=colors[7])\n",
    "plt.hist(data['target_class'], bins=k, color=colors[0])\n",
    "data.plot(kind=\"scatter\", x=\"Skewness of the DM-SNR curve\", y=\"target_class\")"
   ]
  },
  {
   "cell_type": "code",
   "execution_count": 19,
   "metadata": {},
   "outputs": [
    {
     "data": {
      "text/plain": [
       "Text(0.5, 1.0, 'CORRELACION ENTRE VARIABLES')"
      ]
     },
     "execution_count": 19,
     "metadata": {},
     "output_type": "execute_result"
    },
    {
     "data": {
      "image/png": "[encoded data removed]",
      "text/plain": [
       "<Figure size 720x576 with 2 Axes>"
      ]
     },
     "metadata": {
      "needs_background": "light"
     },
     "output_type": "display_data"
    }
   ],
   "source": [
    "correlation = data.corr()\n",
    "plt.figure(figsize=(10,8))\n",
    "sns.heatmap(correlation,annot=True,\n",
    "            cmap=sns.color_palette(\"magma\"),\n",
    "            linewidth=2,edgecolor=\"k\")\n",
    "plt.title(\"CORRELACION ENTRE VARIABLES\")"
   ]
  },
  {
   "cell_type": "code",
   "execution_count": null,
   "metadata": {},
   "outputs": [],
   "source": []
  }
 ],
 "metadata": {
  "kernelspec": {
   "display_name": "Python 3",
   "language": "python",
   "name": "python3"
  },
  "language_info": {
   "codemirror_mode": {
    "name": "ipython",
    "version": 3
   },
   "file_extension": ".py",
   "mimetype": "text/x-python",
   "name": "python",
   "nbconvert_exporter": "python",
   "pygments_lexer": "ipython3",
   "version": "3.7.3"
  }
 },
 "nbformat": 4,
 "nbformat_minor": 2
}
