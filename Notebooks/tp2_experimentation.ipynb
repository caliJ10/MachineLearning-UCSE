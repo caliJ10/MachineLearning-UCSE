{
 "cells": [
  {
   "cell_type": "markdown",
   "metadata": {},
   "source": [
    "# Trabajo Práctico 2"
   ]
  },
  {
   "cell_type": "code",
   "execution_count": 1,
   "metadata": {},
   "outputs": [],
   "source": [
    "import numpy as np\n",
    "import pandas as pd\n",
    "from matplotlib import pyplot as plt\n",
    "import seaborn as sns\n",
    "import itertools\n",
    "import warnings\n",
    "warnings.filterwarnings(\"ignore\")\n",
    "\n",
    "from sklearn.metrics import accuracy_score, precision_score, recall_score, confusion_matrix, f1_score, classification_report\n",
    "from sklearn.model_selection import train_test_split\n",
    "%matplotlib inline"
   ]
  },
  {
   "cell_type": "markdown",
   "metadata": {},
   "source": [
    "# Lectura de datos"
   ]
  },
  {
   "cell_type": "code",
   "execution_count": 2,
   "metadata": {},
   "outputs": [],
   "source": [
    "data = pd.read_csv('../datasets/pulsar-stars/pulsar_stars.csv')"
   ]
  },
  {
   "cell_type": "code",
   "execution_count": 3,
   "metadata": {},
   "outputs": [],
   "source": [
    "data.columns = [col.strip() for col in data.columns]"
   ]
  },
  {
   "cell_type": "markdown",
   "metadata": {},
   "source": [
    "#### Renombrado de columnas:\n",
    "\n",
    "Decidimos renombrar las colunmas pasándolas a español para hacerlas más \"entendibles\" a simple vista."
   ]
  },
  {
   "cell_type": "code",
   "execution_count": 4,
   "metadata": {},
   "outputs": [],
   "source": [
    "NOMBRES_COLUMNAS = {\n",
    "    'Mean of the integrated profile' : 'media del perfil integrado',\n",
    "    'Standard deviation of the integrated profile' : 'desviacion estandar del perfil integrado',\n",
    "    'Excess kurtosis of the integrated profile' : 'exceso de curtosis del perfil integrado',\n",
    "    'Skewness of the integrated profile' : 'sesgo del perfil integrado',\n",
    "    'Mean of the DM-SNR curve' : 'media de la curva DM-SNR',\n",
    "    'Standard deviation of the DM-SNR curve' : 'desviacion estandar de la curva DM-SNR',\n",
    "    'Excess kurtosis of the DM-SNR curve' : 'exceso de curtosis de la curva DM-SNR',\n",
    "    'Skewness of the DM-SNR curve' : 'sesgo de la curva DM-SNR',\n",
    "    'target_class' : 'target_class'\n",
    "}\n",
    "data.rename(columns=NOMBRES_COLUMNAS, inplace=True)"
   ]
  },
  {
   "cell_type": "code",
   "execution_count": 5,
   "metadata": {},
   "outputs": [
    {
     "data": {
      "text/plain": [
       "media del perfil integrado                  float64\n",
       "desviacion estandar del perfil integrado    float64\n",
       "exceso de curtosis del perfil integrado     float64\n",
       "sesgo del perfil integrado                  float64\n",
       "media de la curva DM-SNR                    float64\n",
       "desviacion estandar de la curva DM-SNR      float64\n",
       "exceso de curtosis de la curva DM-SNR       float64\n",
       "sesgo de la curva DM-SNR                    float64\n",
       "target_class                                  int64\n",
       "dtype: object"
      ]
     },
     "execution_count": 5,
     "metadata": {},
     "output_type": "execute_result"
    }
   ],
   "source": [
    "data.dtypes"
   ]
  },
  {
   "cell_type": "code",
   "execution_count": 6,
   "metadata": {},
   "outputs": [
    {
     "data": {
      "text/plain": [
       "media del perfil integrado                  0\n",
       "desviacion estandar del perfil integrado    0\n",
       "exceso de curtosis del perfil integrado     0\n",
       "sesgo del perfil integrado                  0\n",
       "media de la curva DM-SNR                    0\n",
       "desviacion estandar de la curva DM-SNR      0\n",
       "exceso de curtosis de la curva DM-SNR       0\n",
       "sesgo de la curva DM-SNR                    0\n",
       "target_class                                0\n",
       "dtype: int64"
      ]
     },
     "execution_count": 6,
     "metadata": {},
     "output_type": "execute_result"
    }
   ],
   "source": [
    "data.isnull().sum()"
   ]
  },
  {
   "cell_type": "code",
   "execution_count": 7,
   "metadata": {},
   "outputs": [
    {
     "data": {
      "text/html": [
       "<div>\n",
       "<style scoped>\n",
       "    .dataframe tbody tr th:only-of-type {\n",
       "        vertical-align: middle;\n",
       "    }\n",
       "\n",
       "    .dataframe tbody tr th {\n",
       "        vertical-align: top;\n",
       "    }\n",
       "\n",
       "    .dataframe thead th {\n",
       "        text-align: right;\n",
       "    }\n",
       "</style>\n",
       "<table border=\"1\" class=\"dataframe\">\n",
       "  <thead>\n",
       "    <tr style=\"text-align: right;\">\n",
       "      <th></th>\n",
       "      <th>media del perfil integrado</th>\n",
       "      <th>desviacion estandar del perfil integrado</th>\n",
       "      <th>exceso de curtosis del perfil integrado</th>\n",
       "      <th>sesgo del perfil integrado</th>\n",
       "      <th>media de la curva DM-SNR</th>\n",
       "      <th>desviacion estandar de la curva DM-SNR</th>\n",
       "      <th>exceso de curtosis de la curva DM-SNR</th>\n",
       "      <th>sesgo de la curva DM-SNR</th>\n",
       "      <th>target_class</th>\n",
       "    </tr>\n",
       "  </thead>\n",
       "  <tbody>\n",
       "    <tr>\n",
       "      <th>0</th>\n",
       "      <td>140.562500</td>\n",
       "      <td>55.683782</td>\n",
       "      <td>-0.234571</td>\n",
       "      <td>-0.699648</td>\n",
       "      <td>3.199833</td>\n",
       "      <td>19.110426</td>\n",
       "      <td>7.975532</td>\n",
       "      <td>74.242225</td>\n",
       "      <td>0</td>\n",
       "    </tr>\n",
       "    <tr>\n",
       "      <th>1</th>\n",
       "      <td>102.507812</td>\n",
       "      <td>58.882430</td>\n",
       "      <td>0.465318</td>\n",
       "      <td>-0.515088</td>\n",
       "      <td>1.677258</td>\n",
       "      <td>14.860146</td>\n",
       "      <td>10.576487</td>\n",
       "      <td>127.393580</td>\n",
       "      <td>0</td>\n",
       "    </tr>\n",
       "    <tr>\n",
       "      <th>2</th>\n",
       "      <td>103.015625</td>\n",
       "      <td>39.341649</td>\n",
       "      <td>0.323328</td>\n",
       "      <td>1.051164</td>\n",
       "      <td>3.121237</td>\n",
       "      <td>21.744669</td>\n",
       "      <td>7.735822</td>\n",
       "      <td>63.171909</td>\n",
       "      <td>0</td>\n",
       "    </tr>\n",
       "    <tr>\n",
       "      <th>3</th>\n",
       "      <td>136.750000</td>\n",
       "      <td>57.178449</td>\n",
       "      <td>-0.068415</td>\n",
       "      <td>-0.636238</td>\n",
       "      <td>3.642977</td>\n",
       "      <td>20.959280</td>\n",
       "      <td>6.896499</td>\n",
       "      <td>53.593661</td>\n",
       "      <td>0</td>\n",
       "    </tr>\n",
       "    <tr>\n",
       "      <th>4</th>\n",
       "      <td>88.726562</td>\n",
       "      <td>40.672225</td>\n",
       "      <td>0.600866</td>\n",
       "      <td>1.123492</td>\n",
       "      <td>1.178930</td>\n",
       "      <td>11.468720</td>\n",
       "      <td>14.269573</td>\n",
       "      <td>252.567306</td>\n",
       "      <td>0</td>\n",
       "    </tr>\n",
       "  </tbody>\n",
       "</table>\n",
       "</div>"
      ],
      "text/plain": [
       "   media del perfil integrado  desviacion estandar del perfil integrado  \\\n",
       "0                  140.562500                                 55.683782   \n",
       "1                  102.507812                                 58.882430   \n",
       "2                  103.015625                                 39.341649   \n",
       "3                  136.750000                                 57.178449   \n",
       "4                   88.726562                                 40.672225   \n",
       "\n",
       "   exceso de curtosis del perfil integrado  sesgo del perfil integrado  \\\n",
       "0                                -0.234571                   -0.699648   \n",
       "1                                 0.465318                   -0.515088   \n",
       "2                                 0.323328                    1.051164   \n",
       "3                                -0.068415                   -0.636238   \n",
       "4                                 0.600866                    1.123492   \n",
       "\n",
       "   media de la curva DM-SNR  desviacion estandar de la curva DM-SNR  \\\n",
       "0                  3.199833                               19.110426   \n",
       "1                  1.677258                               14.860146   \n",
       "2                  3.121237                               21.744669   \n",
       "3                  3.642977                               20.959280   \n",
       "4                  1.178930                               11.468720   \n",
       "\n",
       "   exceso de curtosis de la curva DM-SNR  sesgo de la curva DM-SNR  \\\n",
       "0                               7.975532                 74.242225   \n",
       "1                              10.576487                127.393580   \n",
       "2                               7.735822                 63.171909   \n",
       "3                               6.896499                 53.593661   \n",
       "4                              14.269573                252.567306   \n",
       "\n",
       "   target_class  \n",
       "0             0  \n",
       "1             0  \n",
       "2             0  \n",
       "3             0  \n",
       "4             0  "
      ]
     },
     "execution_count": 7,
     "metadata": {},
     "output_type": "execute_result"
    }
   ],
   "source": [
    "data.head()"
   ]
  },
  {
   "cell_type": "markdown",
   "metadata": {},
   "source": [
    "## Feature Engineering\n",
    "\n",
    "Al realizar el análisis de los datos, no encontramos una mejora necesaria para aplicar a los datos, quizás esto se deba al desconocimiento que poseemos en el campo del problema.\n",
    "En un principio, supusimos que hacer un redondeo en los decimales de los datos, los resultados mejorarían, ya que al tener tantos decimales imaginábamos que los modelos podrían sobre entrenarse. Haciendo las pruebas y comparando, observamos que los resultados no mejoraban significativamente, y hasta en algunos casos, el resultado empeoraba (muy poco), por lo que decidimos no aplicar ningún cambio a los datos de entrada."
   ]
  },
  {
   "cell_type": "code",
   "execution_count": 8,
   "metadata": {},
   "outputs": [],
   "source": [
    "#data.round(4)"
   ]
  },
  {
   "cell_type": "markdown",
   "metadata": {},
   "source": [
    "### Variables de entrada:\n",
    "- media del perfil integrado\n",
    "- desviacion estandar del perfil integrado\n",
    "- exceso de curtosis del perfil integrado\n",
    "- sesgo del perfil integrado\n",
    "- media de la curva DM-SNR\n",
    "- desviacion estandar de la curva DM-SNR\n",
    "- exceso de curtosis de la curva DM-SNR\n",
    "- sesgo de la curva DM-SNR\n",
    "    \n",
    "Decidimos utilizar todas las variables sin ningún tipo de transformación."
   ]
  },
  {
   "cell_type": "markdown",
   "metadata": {},
   "source": [
    "### Train y Test"
   ]
  },
  {
   "cell_type": "code",
   "execution_count": 9,
   "metadata": {},
   "outputs": [],
   "source": [
    "#train , test = train_test_split(data,test_size = .3,random_state = 123)\n",
    "train, not_train = train_test_split(data, test_size=0.4)\n",
    "validation, test = train_test_split(not_train, test_size=0.5)"
   ]
  },
  {
   "cell_type": "code",
   "execution_count": 10,
   "metadata": {},
   "outputs": [],
   "source": [
    "def evaluate_model(model, extract_inputs_function, extract_outputs_function, include_validation=True):\n",
    "    sets = [('train', train), ('test', test)]\n",
    "    if include_validation:\n",
    "        sets.append(('validation', validation))\n",
    "        \n",
    "    for set_name, set_data in sets:\n",
    "        inputs = extract_inputs_function(set_data)\n",
    "        outputs = extract_outputs_function(set_data)\n",
    "        predictions = model.predict(inputs)\n",
    "        \n",
    "        print(set_name, '#' * 80)\n",
    "        \n",
    "        # print metrics\n",
    "        \n",
    "        print('Accuracy:', accuracy_score(outputs, predictions))\n",
    "        print('Precision:', precision_score(outputs, predictions))\n",
    "        print('Recall:', recall_score(outputs, predictions))\n",
    "        print('F1-score:', f1_score(outputs, predictions))\n",
    "        print()\n",
    "        print (\"\\nclassification report :\\n\",(classification_report(outputs,predictions)))\n",
    "        print()\n",
    "        \n",
    "        # plot confussion matrix\n",
    "        \n",
    "        \n",
    "        plt.figure(figsize=(13,10))\n",
    "        plt.subplot(221)\n",
    "        sns.heatmap(confusion_matrix(outputs,predictions),annot=True,fmt = \"d\",linecolor=\"k\",linewidths=3)\n",
    "        plt.title(\"CONFUSION MATRIX\",fontsize=20)\n",
    "        plt.xticks([0, 1], ['no star', 'star'], rotation=45)\n",
    "        plt.yticks([0, 1], ['no star', 'star'])\n",
    "        plt.xlabel('Predicted class')\n",
    "        plt.ylabel('True class')\n",
    "        \n",
    "        #plt.figure(figsize=(3,4))        \n",
    "        #plt.xticks([0, 1], ['no star', 'star'], rotation=45)\n",
    "        #plt.yticks([0, 1], ['no star', 'star'])\n",
    "        #plt.xlabel('Predicted class')\n",
    "        #plt.ylabel('True class')\n",
    "        #plt.title(set_name)\n",
    "        #plt.imshow(\n",
    "            #confusion_matrix(outputs, predictions), \n",
    "            #cmap=plt.cm.Reds, \n",
    "            #interpolation='nearest',\n",
    "        #)\n",
    "\n",
    "        plt.show()"
   ]
  },
  {
   "cell_type": "markdown",
   "metadata": {},
   "source": [
    "### Definición de la métrica\n",
    "Teniendo en cuenta que nuestro dataset está muy desbalanceado, la elección de \"Accuracy\" como métrica no sería una buena opción. Por otro lado, nos interesa encontrar todos los casos positivos, ya que son pocos en relación al dataset.\n",
    "La métrica que vamos a utilizar va a ser \"F1-Score\", ya que combina \"Recall\" para que no se nos escape ningún caso positivo, y \"Precision\" para encontrar los casos que son realmente positivos."
   ]
  },
  {
   "cell_type": "markdown",
   "metadata": {},
   "source": [
    "## Primer Modelo: Logistic Regression"
   ]
  },
  {
   "cell_type": "code",
   "execution_count": 11,
   "metadata": {},
   "outputs": [],
   "source": [
    "from sklearn.linear_model import LogisticRegression\n",
    "from sklearn.preprocessing import StandardScaler\n",
    "from sklearn.pipeline import Pipeline"
   ]
  },
  {
   "cell_type": "code",
   "execution_count": 12,
   "metadata": {},
   "outputs": [],
   "source": [
    "# final input columns, in the order we want to use them\n",
    "LR_INPUT_COLUMNS = [x for x in data.columns if x not in [\"target_class\"]]\n",
    "\n",
    "def lr_extract_inputs(dataset):\n",
    "    \"\"\"\n",
    "    Inputs in the format supported by the logistic regressor.\n",
    "    \"\"\"\n",
    "    inputs = dataset.copy() \n",
    "    \n",
    "    return inputs[LR_INPUT_COLUMNS].values.astype(np.float64)\n",
    "\n",
    "def lr_extract_outputs(dataset):\n",
    "    \"\"\"\n",
    "    Outputs in the format supported by the logistic regressor.\n",
    "    \"\"\"\n",
    "    return dataset.target_class.values"
   ]
  },
  {
   "cell_type": "code",
   "execution_count": 13,
   "metadata": {},
   "outputs": [],
   "source": [
    "\n",
    "lr_model = Pipeline([\n",
    "    ('scaler', StandardScaler()),\n",
    "    ('classifier', LogisticRegression()),\n",
    "])"
   ]
  },
  {
   "cell_type": "code",
   "execution_count": 14,
   "metadata": {},
   "outputs": [
    {
     "data": {
      "text/plain": [
       "Pipeline(memory=None,\n",
       "     steps=[('scaler', StandardScaler(copy=True, with_mean=True, with_std=True)), ('classifier', LogisticRegression(C=1.0, class_weight=None, dual=False, fit_intercept=True,\n",
       "          intercept_scaling=1, max_iter=100, multi_class='warn',\n",
       "          n_jobs=None, penalty='l2', random_state=None, solver='warn',\n",
       "          tol=0.0001, verbose=0, warm_start=False))])"
      ]
     },
     "execution_count": 14,
     "metadata": {},
     "output_type": "execute_result"
    }
   ],
   "source": [
    "lr_model.fit(\n",
    "    lr_extract_inputs(train),\n",
    "    lr_extract_outputs(train),\n",
    ")"
   ]
  },
  {
   "cell_type": "code",
   "execution_count": 15,
   "metadata": {
    "scrolled": true
   },
   "outputs": [
    {
     "name": "stdout",
     "output_type": "stream",
     "text": [
      "train ################################################################################\n",
      "Accuracy: 0.9775563419631216\n",
      "Precision: 0.9352601156069364\n",
      "Recall: 0.8138832997987927\n",
      "F1-score: 0.8703604088219473\n",
      "\n",
      "\n",
      "classification report :\n",
      "               precision    recall  f1-score   support\n",
      "\n",
      "           0       0.98      0.99      0.99      9744\n",
      "           1       0.94      0.81      0.87       994\n",
      "\n",
      "   micro avg       0.98      0.98      0.98     10738\n",
      "   macro avg       0.96      0.90      0.93     10738\n",
      "weighted avg       0.98      0.98      0.98     10738\n",
      "\n",
      "\n"
     ]
    },
    {
     "data": {
      "image/png": "[encoded data removed]",
      "text/plain": [
       "<Figure size 936x720 with 2 Axes>"
      ]
     },
     "metadata": {
      "needs_background": "light"
     },
     "output_type": "display_data"
    },
    {
     "name": "stdout",
     "output_type": "stream",
     "text": [
      "test ################################################################################\n",
      "Accuracy: 0.9784916201117319\n",
      "Precision: 0.9397590361445783\n",
      "Recall: 0.7905405405405406\n",
      "F1-score: 0.8587155963302753\n",
      "\n",
      "\n",
      "classification report :\n",
      "               precision    recall  f1-score   support\n",
      "\n",
      "           0       0.98      1.00      0.99      3284\n",
      "           1       0.94      0.79      0.86       296\n",
      "\n",
      "   micro avg       0.98      0.98      0.98      3580\n",
      "   macro avg       0.96      0.89      0.92      3580\n",
      "weighted avg       0.98      0.98      0.98      3580\n",
      "\n",
      "\n"
     ]
    },
    {
     "data": {
      "image/png": "[encoded data removed]",
      "text/plain": [
       "<Figure size 936x720 with 2 Axes>"
      ]
     },
     "metadata": {
      "needs_background": "light"
     },
     "output_type": "display_data"
    },
    {
     "name": "stdout",
     "output_type": "stream",
     "text": [
      "validation ################################################################################\n",
      "Accuracy: 0.9801675977653631\n",
      "Precision: 0.9695945945945946\n",
      "Recall: 0.8223495702005731\n",
      "F1-score: 0.8899224806201551\n",
      "\n",
      "\n",
      "classification report :\n",
      "               precision    recall  f1-score   support\n",
      "\n",
      "           0       0.98      1.00      0.99      3231\n",
      "           1       0.97      0.82      0.89       349\n",
      "\n",
      "   micro avg       0.98      0.98      0.98      3580\n",
      "   macro avg       0.98      0.91      0.94      3580\n",
      "weighted avg       0.98      0.98      0.98      3580\n",
      "\n",
      "\n"
     ]
    },
    {
     "data": {
      "image/png": "[encoded data removed]",
      "text/plain": [
       "<Figure size 936x720 with 2 Axes>"
      ]
     },
     "metadata": {
      "needs_background": "light"
     },
     "output_type": "display_data"
    }
   ],
   "source": [
    "evaluate_model(lr_model, lr_extract_inputs, lr_extract_outputs)"
   ]
  },
  {
   "cell_type": "markdown",
   "metadata": {},
   "source": [
    "### Conclusiones\n",
    "El modelo tiene un alto porcentaje de aciertos en F1-score (superior a 85%) para casos positivos de estrellas en Test y Validation. Esto concuerda con el análisis del dataset realizado en el TP anterior, ya que observamos a través de los graficos, que los datos podrían representarse muy bien con una regresión.\n",
    "\n",
    "Para ser un modelo sencillo y muy rápido de ejecutar es un resultado muy bueno."
   ]
  },
  {
   "cell_type": "markdown",
   "metadata": {},
   "source": [
    "## Segundo Modelo: K nearest neighbors"
   ]
  },
  {
   "cell_type": "code",
   "execution_count": 16,
   "metadata": {},
   "outputs": [],
   "source": [
    "from sklearn.neighbors import KNeighborsClassifier"
   ]
  },
  {
   "cell_type": "code",
   "execution_count": 17,
   "metadata": {},
   "outputs": [],
   "source": [
    "K = 5\n",
    "\n",
    "knn_model = Pipeline([\n",
    "    ('scaler', StandardScaler()),\n",
    "    ('classifier', KNeighborsClassifier(n_neighbors=K)),\n",
    "])"
   ]
  },
  {
   "cell_type": "code",
   "execution_count": 18,
   "metadata": {},
   "outputs": [
    {
     "data": {
      "text/plain": [
       "Pipeline(memory=None,\n",
       "     steps=[('scaler', StandardScaler(copy=True, with_mean=True, with_std=True)), ('classifier', KNeighborsClassifier(algorithm='auto', leaf_size=30, metric='minkowski',\n",
       "           metric_params=None, n_jobs=None, n_neighbors=5, p=2,\n",
       "           weights='uniform'))])"
      ]
     },
     "execution_count": 18,
     "metadata": {},
     "output_type": "execute_result"
    }
   ],
   "source": [
    "knn_model.fit(\n",
    "    lr_extract_inputs(train),\n",
    "    lr_extract_outputs(train),\n",
    ")"
   ]
  },
  {
   "cell_type": "code",
   "execution_count": 19,
   "metadata": {},
   "outputs": [
    {
     "name": "stdout",
     "output_type": "stream",
     "text": [
      "train ################################################################################\n",
      "Accuracy: 0.9814676848575153\n",
      "Precision: 0.9401993355481728\n",
      "Recall: 0.8541247484909457\n",
      "F1-score: 0.8950975224037955\n",
      "\n",
      "\n",
      "classification report :\n",
      "               precision    recall  f1-score   support\n",
      "\n",
      "           0       0.99      0.99      0.99      9744\n",
      "           1       0.94      0.85      0.90       994\n",
      "\n",
      "   micro avg       0.98      0.98      0.98     10738\n",
      "   macro avg       0.96      0.92      0.94     10738\n",
      "weighted avg       0.98      0.98      0.98     10738\n",
      "\n",
      "\n"
     ]
    },
    {
     "data": {
      "image/png": "[encoded data removed]",
      "text/plain": [
       "<Figure size 936x720 with 2 Axes>"
      ]
     },
     "metadata": {
      "needs_background": "light"
     },
     "output_type": "display_data"
    },
    {
     "name": "stdout",
     "output_type": "stream",
     "text": [
      "test ################################################################################\n",
      "Accuracy: 0.979050279329609\n",
      "Precision: 0.9367588932806324\n",
      "Recall: 0.8006756756756757\n",
      "F1-score: 0.8633879781420765\n",
      "\n",
      "\n",
      "classification report :\n",
      "               precision    recall  f1-score   support\n",
      "\n",
      "           0       0.98      1.00      0.99      3284\n",
      "           1       0.94      0.80      0.86       296\n",
      "\n",
      "   micro avg       0.98      0.98      0.98      3580\n",
      "   macro avg       0.96      0.90      0.93      3580\n",
      "weighted avg       0.98      0.98      0.98      3580\n",
      "\n",
      "\n"
     ]
    },
    {
     "data": {
      "image/png": "[encoded data removed]",
      "text/plain": [
       "<Figure size 936x720 with 2 Axes>"
      ]
     },
     "metadata": {
      "needs_background": "light"
     },
     "output_type": "display_data"
    },
    {
     "name": "stdout",
     "output_type": "stream",
     "text": [
      "validation ################################################################################\n",
      "Accuracy: 0.979050279329609\n",
      "Precision: 0.959731543624161\n",
      "Recall: 0.8194842406876791\n",
      "F1-score: 0.884080370942813\n",
      "\n",
      "\n",
      "classification report :\n",
      "               precision    recall  f1-score   support\n",
      "\n",
      "           0       0.98      1.00      0.99      3231\n",
      "           1       0.96      0.82      0.88       349\n",
      "\n",
      "   micro avg       0.98      0.98      0.98      3580\n",
      "   macro avg       0.97      0.91      0.94      3580\n",
      "weighted avg       0.98      0.98      0.98      3580\n",
      "\n",
      "\n"
     ]
    },
    {
     "data": {
      "image/png": "[encoded data removed]",
      "text/plain": [
       "<Figure size 936x720 with 2 Axes>"
      ]
     },
     "metadata": {
      "needs_background": "light"
     },
     "output_type": "display_data"
    }
   ],
   "source": [
    "evaluate_model(knn_model, lr_extract_inputs, lr_extract_outputs)"
   ]
  },
  {
   "cell_type": "markdown",
   "metadata": {},
   "source": [
    "### Conclusión\n",
    "Al realizar el análisis del dataset en el TP anterior, observamos a través de los distintos gráficos que los datos se podían separar o agrupar fácilmente a partir de la variable de salida, por lo que decidimos probar crear un modelo k-NN. El resultado de aplicar dicho modelo fue el esperado, un porcentaje alto (por encima del 85%) para casos positivos en nuestra métrica F1-Score, tanto en Test como en Validation.\n",
    "\n",
    "Para ser un modelo sencillo y muy rápido de ejecutar es un resultado muy bueno."
   ]
  },
  {
   "cell_type": "markdown",
   "metadata": {},
   "source": [
    "## Tercer Modelo: Decision Trees"
   ]
  },
  {
   "cell_type": "code",
   "execution_count": 20,
   "metadata": {},
   "outputs": [],
   "source": [
    "from sklearn.tree import DecisionTreeClassifier"
   ]
  },
  {
   "cell_type": "code",
   "execution_count": 21,
   "metadata": {},
   "outputs": [],
   "source": [
    "TREE_INPUT_COLUMNS = [\n",
    "    'exceso de curtosis del perfil integrado',\n",
    "    'sesgo del perfil integrado',\n",
    "    'media del perfil integrado',\n",
    "    'exceso de curtosis de la curva DM-SNR',\n",
    "    'sesgo de la curva DM-SNR',\n",
    "    'desviacion estandar del perfil integrado',\n",
    "    'media de la curva DM-SNR',\n",
    "    'desviacion estandar de la curva DM-SNR',\n",
    "]\n",
    "\n",
    "#TREE_INPUT_COLUMS = [x for x in data.columns if x not in [\"target_class\"]]\n",
    "\n",
    "def tree_extract_inputs(dataset):\n",
    "    \"\"\"\n",
    "    Inputs in the format supported by the logistic regressor.\n",
    "    \"\"\"\n",
    "    # we don't want to modify the original dataset, that we will use with other models\n",
    "    inputs = dataset.copy()\n",
    "    \n",
    "    # return the raw numbers\n",
    "    return inputs[TREE_INPUT_COLUMNS].values\n",
    "\n",
    "def tree_extract_outputs(dataset):\n",
    "    \"\"\"\n",
    "    Outputs in the format supported by the logistic regressor.\n",
    "    \"\"\"\n",
    "    return dataset.target_class.values"
   ]
  },
  {
   "cell_type": "code",
   "execution_count": 51,
   "metadata": {},
   "outputs": [],
   "source": [
    "tree_model = DecisionTreeClassifier(criterion=\"entropy\", max_depth=5)"
   ]
  },
  {
   "cell_type": "code",
   "execution_count": 52,
   "metadata": {},
   "outputs": [
    {
     "data": {
      "text/plain": [
       "DecisionTreeClassifier(class_weight=None, criterion='entropy', max_depth=5,\n",
       "            max_features=None, max_leaf_nodes=None,\n",
       "            min_impurity_decrease=0.0, min_impurity_split=None,\n",
       "            min_samples_leaf=1, min_samples_split=2,\n",
       "            min_weight_fraction_leaf=0.0, presort=False, random_state=None,\n",
       "            splitter='best')"
      ]
     },
     "execution_count": 52,
     "metadata": {},
     "output_type": "execute_result"
    }
   ],
   "source": [
    "tree_model.fit(\n",
    "    tree_extract_inputs(train),\n",
    "    tree_extract_outputs(train),\n",
    ")"
   ]
  },
  {
   "cell_type": "code",
   "execution_count": 53,
   "metadata": {},
   "outputs": [
    {
     "name": "stdout",
     "output_type": "stream",
     "text": [
      "train ################################################################################\n",
      "Accuracy: 0.9810020487986589\n",
      "Precision: 0.9379157427937915\n",
      "Recall: 0.8511066398390342\n",
      "F1-score: 0.8924050632911392\n",
      "\n",
      "\n",
      "classification report :\n",
      "               precision    recall  f1-score   support\n",
      "\n",
      "           0       0.98      0.99      0.99      9744\n",
      "           1       0.94      0.85      0.89       994\n",
      "\n",
      "   micro avg       0.98      0.98      0.98     10738\n",
      "   macro avg       0.96      0.92      0.94     10738\n",
      "weighted avg       0.98      0.98      0.98     10738\n",
      "\n",
      "\n"
     ]
    },
    {
     "data": {
      "image/png": "[encoded data removed]",
      "text/plain": [
       "<Figure size 936x720 with 2 Axes>"
      ]
     },
     "metadata": {
      "needs_background": "light"
     },
     "output_type": "display_data"
    },
    {
     "name": "stdout",
     "output_type": "stream",
     "text": [
      "test ################################################################################\n",
      "Accuracy: 0.9798882681564246\n",
      "Precision: 0.9341085271317829\n",
      "Recall: 0.8141891891891891\n",
      "F1-score: 0.8700361010830324\n",
      "\n",
      "\n",
      "classification report :\n",
      "               precision    recall  f1-score   support\n",
      "\n",
      "           0       0.98      0.99      0.99      3284\n",
      "           1       0.93      0.81      0.87       296\n",
      "\n",
      "   micro avg       0.98      0.98      0.98      3580\n",
      "   macro avg       0.96      0.90      0.93      3580\n",
      "weighted avg       0.98      0.98      0.98      3580\n",
      "\n",
      "\n"
     ]
    },
    {
     "data": {
      "image/png": "[encoded data removed]",
      "text/plain": [
       "<Figure size 936x720 with 2 Axes>"
      ]
     },
     "metadata": {
      "needs_background": "light"
     },
     "output_type": "display_data"
    },
    {
     "name": "stdout",
     "output_type": "stream",
     "text": [
      "validation ################################################################################\n",
      "Accuracy: 0.9807262569832402\n",
      "Precision: 0.9545454545454546\n",
      "Recall: 0.8424068767908309\n",
      "F1-score: 0.8949771689497716\n",
      "\n",
      "\n",
      "classification report :\n",
      "               precision    recall  f1-score   support\n",
      "\n",
      "           0       0.98      1.00      0.99      3231\n",
      "           1       0.95      0.84      0.89       349\n",
      "\n",
      "   micro avg       0.98      0.98      0.98      3580\n",
      "   macro avg       0.97      0.92      0.94      3580\n",
      "weighted avg       0.98      0.98      0.98      3580\n",
      "\n",
      "\n"
     ]
    },
    {
     "data": {
      "image/png": "[encoded data removed]",
      "text/plain": [
       "<Figure size 936x720 with 2 Axes>"
      ]
     },
     "metadata": {
      "needs_background": "light"
     },
     "output_type": "display_data"
    }
   ],
   "source": [
    "evaluate_model(tree_model, tree_extract_inputs, tree_extract_outputs)"
   ]
  },
  {
   "cell_type": "markdown",
   "metadata": {},
   "source": [
    "### Conclusión\n",
    "\n",
    "El resultado tanto en Test como en Validation es muy bueno (superior al 85%) para casos positivos. Probando con distintos valores para max_depth, encontramos que el mejor resultado lo arrojaba con max_depth=5, ya que con valores superiores, el modelo empezaba a sobre entrenarse, y con valores menores, el porcentaje de aciertos era inferior."
   ]
  },
  {
   "cell_type": "markdown",
   "metadata": {},
   "source": [
    "## Random Forests"
   ]
  },
  {
   "cell_type": "code",
   "execution_count": 271,
   "metadata": {},
   "outputs": [],
   "source": [
    "from sklearn.ensemble import RandomForestClassifier"
   ]
  },
  {
   "cell_type": "code",
   "execution_count": 301,
   "metadata": {},
   "outputs": [],
   "source": [
    "forest_model = RandomForestClassifier(max_depth=8)"
   ]
  },
  {
   "cell_type": "code",
   "execution_count": 302,
   "metadata": {},
   "outputs": [
    {
     "data": {
      "text/plain": [
       "RandomForestClassifier(bootstrap=True, class_weight=None, criterion='gini',\n",
       "            max_depth=8, max_features='auto', max_leaf_nodes=None,\n",
       "            min_impurity_decrease=0.0, min_impurity_split=None,\n",
       "            min_samples_leaf=1, min_samples_split=2,\n",
       "            min_weight_fraction_leaf=0.0, n_estimators=10, n_jobs=None,\n",
       "            oob_score=False, random_state=None, verbose=0,\n",
       "            warm_start=False)"
      ]
     },
     "execution_count": 302,
     "metadata": {},
     "output_type": "execute_result"
    }
   ],
   "source": [
    "forest_model.fit(\n",
    "    tree_extract_inputs(train),\n",
    "    tree_extract_outputs(train),\n",
    ")"
   ]
  },
  {
   "cell_type": "code",
   "execution_count": 303,
   "metadata": {},
   "outputs": [
    {
     "name": "stdout",
     "output_type": "stream",
     "text": [
      "train ################################################################################\n",
      "Accuracy: 0.9864034270813932\n",
      "Precision: 0.9814169570267132\n",
      "Recall: 0.8666666666666667\n",
      "F1-score: 0.920479302832244\n",
      "\n",
      "\n",
      "classification report :\n",
      "               precision    recall  f1-score   support\n",
      "\n",
      "           0       0.99      1.00      0.99      9763\n",
      "           1       0.98      0.87      0.92       975\n",
      "\n",
      "   micro avg       0.99      0.99      0.99     10738\n",
      "   macro avg       0.98      0.93      0.96     10738\n",
      "weighted avg       0.99      0.99      0.99     10738\n",
      "\n",
      "\n"
     ]
    },
    {
     "data": {
      "image/png": "[encoded data removed]",
      "text/plain": [
       "<Figure size 936x720 with 2 Axes>"
      ]
     },
     "metadata": {
      "needs_background": "light"
     },
     "output_type": "display_data"
    },
    {
     "name": "stdout",
     "output_type": "stream",
     "text": [
      "test ################################################################################\n",
      "Accuracy: 0.9812849162011174\n",
      "Precision: 0.95\n",
      "Recall: 0.8456973293768546\n",
      "F1-score: 0.8948194662480377\n",
      "\n",
      "\n",
      "classification report :\n",
      "               precision    recall  f1-score   support\n",
      "\n",
      "           0       0.98      1.00      0.99      3243\n",
      "           1       0.95      0.85      0.89       337\n",
      "\n",
      "   micro avg       0.98      0.98      0.98      3580\n",
      "   macro avg       0.97      0.92      0.94      3580\n",
      "weighted avg       0.98      0.98      0.98      3580\n",
      "\n",
      "\n"
     ]
    },
    {
     "data": {
      "image/png": "[encoded data removed]",
      "text/plain": [
       "<Figure size 936x720 with 2 Axes>"
      ]
     },
     "metadata": {
      "needs_background": "light"
     },
     "output_type": "display_data"
    },
    {
     "name": "stdout",
     "output_type": "stream",
     "text": [
      "validation ################################################################################\n",
      "Accuracy: 0.9776536312849162\n",
      "Precision: 0.9075907590759076\n",
      "Recall: 0.8409785932721713\n",
      "F1-score: 0.873015873015873\n",
      "\n",
      "\n",
      "classification report :\n",
      "               precision    recall  f1-score   support\n",
      "\n",
      "           0       0.98      0.99      0.99      3253\n",
      "           1       0.91      0.84      0.87       327\n",
      "\n",
      "   micro avg       0.98      0.98      0.98      3580\n",
      "   macro avg       0.95      0.92      0.93      3580\n",
      "weighted avg       0.98      0.98      0.98      3580\n",
      "\n",
      "\n"
     ]
    },
    {
     "data": {
      "image/png": "[encoded data removed]",
      "text/plain": [
       "<Figure size 936x720 with 2 Axes>"
      ]
     },
     "metadata": {
      "needs_background": "light"
     },
     "output_type": "display_data"
    }
   ],
   "source": [
    "evaluate_model(forest_model, tree_extract_inputs, tree_extract_outputs)"
   ]
  },
  {
   "cell_type": "markdown",
   "metadata": {},
   "source": [
    "#### Conclusion"
   ]
  },
  {
   "cell_type": "markdown",
   "metadata": {},
   "source": [
    "## Gradient Boosted Trees"
   ]
  },
  {
   "cell_type": "code",
   "execution_count": 275,
   "metadata": {},
   "outputs": [],
   "source": [
    "from sklearn.ensemble import GradientBoostingClassifier"
   ]
  },
  {
   "cell_type": "code",
   "execution_count": 304,
   "metadata": {},
   "outputs": [],
   "source": [
    "boost_model = GradientBoostingClassifier(max_depth=5)"
   ]
  },
  {
   "cell_type": "code",
   "execution_count": 305,
   "metadata": {},
   "outputs": [
    {
     "data": {
      "text/plain": [
       "GradientBoostingClassifier(criterion='friedman_mse', init=None,\n",
       "              learning_rate=0.1, loss='deviance', max_depth=5,\n",
       "              max_features=None, max_leaf_nodes=None,\n",
       "              min_impurity_decrease=0.0, min_impurity_split=None,\n",
       "              min_samples_leaf=1, min_samples_split=2,\n",
       "              min_weight_fraction_leaf=0.0, n_estimators=100,\n",
       "              n_iter_no_change=None, presort='auto', random_state=None,\n",
       "              subsample=1.0, tol=0.0001, validation_fraction=0.1,\n",
       "              verbose=0, warm_start=False)"
      ]
     },
     "execution_count": 305,
     "metadata": {},
     "output_type": "execute_result"
    }
   ],
   "source": [
    "boost_model.fit(\n",
    "    tree_extract_inputs(train),\n",
    "    tree_extract_outputs(train),\n",
    ")"
   ]
  },
  {
   "cell_type": "code",
   "execution_count": 306,
   "metadata": {},
   "outputs": [
    {
     "name": "stdout",
     "output_type": "stream",
     "text": [
      "train ################################################################################\n",
      "Accuracy: 0.9945054945054945\n",
      "Precision: 0.9903640256959315\n",
      "Recall: 0.9487179487179487\n",
      "F1-score: 0.9690937663698272\n",
      "\n",
      "\n",
      "classification report :\n",
      "               precision    recall  f1-score   support\n",
      "\n",
      "           0       0.99      1.00      1.00      9763\n",
      "           1       0.99      0.95      0.97       975\n",
      "\n",
      "   micro avg       0.99      0.99      0.99     10738\n",
      "   macro avg       0.99      0.97      0.98     10738\n",
      "weighted avg       0.99      0.99      0.99     10738\n",
      "\n",
      "\n"
     ]
    },
    {
     "data": {
      "image/png": "[encoded data removed]",
      "text/plain": [
       "<Figure size 936x720 with 2 Axes>"
      ]
     },
     "metadata": {
      "needs_background": "light"
     },
     "output_type": "display_data"
    },
    {
     "name": "stdout",
     "output_type": "stream",
     "text": [
      "test ################################################################################\n",
      "Accuracy: 0.9793296089385475\n",
      "Precision: 0.9174603174603174\n",
      "Recall: 0.857566765578635\n",
      "F1-score: 0.8865030674846627\n",
      "\n",
      "\n",
      "classification report :\n",
      "               precision    recall  f1-score   support\n",
      "\n",
      "           0       0.99      0.99      0.99      3243\n",
      "           1       0.92      0.86      0.89       337\n",
      "\n",
      "   micro avg       0.98      0.98      0.98      3580\n",
      "   macro avg       0.95      0.92      0.94      3580\n",
      "weighted avg       0.98      0.98      0.98      3580\n",
      "\n",
      "\n"
     ]
    },
    {
     "data": {
      "image/png": "[encoded data removed]",
      "text/plain": [
       "<Figure size 936x720 with 2 Axes>"
      ]
     },
     "metadata": {
      "needs_background": "light"
     },
     "output_type": "display_data"
    },
    {
     "name": "stdout",
     "output_type": "stream",
     "text": [
      "validation ################################################################################\n",
      "Accuracy: 0.9776536312849162\n",
      "Precision: 0.8847352024922118\n",
      "Recall: 0.8685015290519877\n",
      "F1-score: 0.8765432098765431\n",
      "\n",
      "\n",
      "classification report :\n",
      "               precision    recall  f1-score   support\n",
      "\n",
      "           0       0.99      0.99      0.99      3253\n",
      "           1       0.88      0.87      0.88       327\n",
      "\n",
      "   micro avg       0.98      0.98      0.98      3580\n",
      "   macro avg       0.94      0.93      0.93      3580\n",
      "weighted avg       0.98      0.98      0.98      3580\n",
      "\n",
      "\n"
     ]
    },
    {
     "data": {
      "image/png": "[encoded data removed]",
      "text/plain": [
       "<Figure size 936x720 with 2 Axes>"
      ]
     },
     "metadata": {
      "needs_background": "light"
     },
     "output_type": "display_data"
    }
   ],
   "source": [
    "evaluate_model(boost_model, tree_extract_inputs, tree_extract_outputs)"
   ]
  },
  {
   "cell_type": "code",
   "execution_count": null,
   "metadata": {},
   "outputs": [],
   "source": []
  }
 ],
 "metadata": {
  "kernelspec": {
   "display_name": "Python 3",
   "language": "python",
   "name": "python3"
  },
  "language_info": {
   "codemirror_mode": {
    "name": "ipython",
    "version": 3
   },
   "file_extension": ".py",
   "mimetype": "text/x-python",
   "name": "python",
   "nbconvert_exporter": "python",
   "pygments_lexer": "ipython3",
   "version": "3.7.3"
  }
 },
 "nbformat": 4,
 "nbformat_minor": 2
}
